{
 "cells": [
  {
   "cell_type": "markdown",
   "metadata": {},
   "source": [
    "## CREATION BASES DE DONNEES"
   ]
  },
  {
   "cell_type": "code",
   "execution_count": 1,
   "metadata": {},
   "outputs": [],
   "source": [
    "%load_ext autoreload\n",
    "%autoreload 2"
   ]
  },
  {
   "cell_type": "code",
   "execution_count": 2,
   "metadata": {},
   "outputs": [],
   "source": [
    "import utils"
   ]
  },
  {
   "cell_type": "code",
   "execution_count": 3,
   "metadata": {},
   "outputs": [],
   "source": [
    "import psycopg2"
   ]
  },
  {
   "cell_type": "code",
   "execution_count": 4,
   "metadata": {},
   "outputs": [],
   "source": [
    "import sqlite3"
   ]
  },
  {
   "cell_type": "code",
   "execution_count": 9,
   "metadata": {},
   "outputs": [],
   "source": [
    "import os"
   ]
  },
  {
   "cell_type": "code",
   "execution_count": 10,
   "metadata": {},
   "outputs": [],
   "source": [
    "ma_base_donnees = \"Movie 2\"\n",
    "utilisateur = \"postgres\"\n",
    "mot_passe = os.environ.get('pg_psw')"
   ]
  },
  {
   "cell_type": "code",
   "execution_count": 14,
   "metadata": {},
   "outputs": [],
   "source": [
    "# 5 arguments pour se connecter, localhost, 5432 \n",
    "# http://www.python-simple.com/python-autres-modules-non-standards/psycopg2.php\n",
    "def ouvrir_connection(nom_bdd, utilisateur, mot_passe, host='localhost', port=5432):\n",
    "    try:\n",
    "        conn = psycopg2.connect(dbname=nom_bdd, user=utilisateur, password=mot_passe, host=host, port=5432)\n",
    "    # sqlite3.Error  --> psycopg2.Error\n",
    "    except psycopg2.Error as e:\n",
    "        print(\"Erreur lors de la connection à la base de données\")\n",
    "        print(e)\n",
    "        return None\n",
    "    # autocommit non dispo sur Sql3\n",
    "    conn.set_session(autocommit=True)\n",
    "    return conn"
   ]
  },
  {
   "cell_type": "code",
   "execution_count": 15,
   "metadata": {},
   "outputs": [
    {
     "data": {
      "text/plain": [
       "psycopg2.extensions.connection"
      ]
     },
     "execution_count": 15,
     "metadata": {},
     "output_type": "execute_result"
    }
   ],
   "source": [
    "conn = ouvrir_connection(ma_base_donnees, utilisateur, mot_passe)\n",
    "type(conn)"
   ]
  },
  {
   "cell_type": "code",
   "execution_count": 5,
   "metadata": {},
   "outputs": [],
   "source": [
    "from pathlib import Path\n",
    "# Répertoire dataset (small)\n",
    "repertoire_data = Path('data/')\n",
    "# Chemin vers les différents fichiers de données\n",
    "chemin_movies = repertoire_data / 'movies.csv'\n",
    "chemin_links = repertoire_data / 'links.csv'\n",
    "chemin_ratings = repertoire_data / 'ratings.csv'\n",
    "chemin_tags = repertoire_data / 'tags.csv'"
   ]
  },
  {
   "cell_type": "code",
   "execution_count": null,
   "metadata": {},
   "outputs": [],
   "source": []
  },
  {
   "cell_type": "code",
   "execution_count": 6,
   "metadata": {},
   "outputs": [],
   "source": [
    "def supprimer_table(conn, pgsql_suppression_table):\n",
    "try:\n",
    "cursor = conn.cursor()\n",
    "cursor.execute(pgsql_suppression_table)\n",
    "conn.commit()\n",
    "except psycopg2.Error as e:\n",
    "print(\"Erreur lors de la suppression de la table\")\n",
    "print(e)\n",
    "return\n",
    "cursor.close()\n",
    "print(\"La table a été supprimée avec succès\")\n",
    "def creer_table(conn, pgsql_creation_table):\n",
    "try:\n",
    "cursor = conn.cursor()\n",
    "cursor.execute(pgsql_creation_table)\n",
    "conn.commit()\n",
    "except psycopg2.Error as e:\n",
    "print(\"Erreur lors de la création de la table\")\n",
    "print(e)\n",
    "return\n",
    "cursor.close()\n",
    "print(\"La table a été crée avec succès\")\n",
    "def inserer_donnees(conn, pgsql_insertion_table, donnees):\n",
    "try:\n",
    "cursor = conn.cursor()\n",
    "for d in donnees:\n",
    "cursor.execute(pgsql_insertion_table, d)\n",
    "conn.commit()\n",
    "except psycopg2.Error as e:\n",
    "print(\"Erreur lors de l'insertion des données\")\n",
    "print(e)\n",
    "return\n",
    "cursor.close()\n",
    "print(\"Les données ont été insérées avec succès\")\n",
    "def lire_donnees(conn, pgsql_requete):\n",
    "try:\n",
    "cursor = conn.cursor()\n",
    "cursor.execute(pgsql_requete)\n",
    "conn.commit()\n",
    "except psycopg2.Error as e:\n",
    "print(\"Erreur lors de la lecture des données\")\n",
    "print(e)\n",
    "return None\n",
    "print(\"Les données ont été lues avec succès\")\n",
    "data = []\n",
    "for row in cursor:\n",
    "data.append(row)\n",
    "cursor.close()\n",
    "return data"
   ]
  },
  {
   "cell_type": "code",
   "execution_count": 7,
   "metadata": {},
   "outputs": [],
   "source": [
    "movies_dict = utils.lire_csv_dict(chemin_movies)"
   ]
  },
  {
   "cell_type": "code",
   "execution_count": 8,
   "metadata": {},
   "outputs": [],
   "source": [
    "ratings_dict = utils.lire_csv_dict(chemin_ratings)"
   ]
  },
  {
   "cell_type": "code",
   "execution_count": null,
   "metadata": {},
   "outputs": [],
   "source": [
    "def inserer_donnees_colonne(conn, renvoyer_annee_titre_film, donnees):\n",
    "    try:\n",
    "        cursor = conn.cursor()\n",
    "        for d in donnees:\n",
    "            cursor.execute(pgsql_insertion_colonne, d)\n",
    "        conn.commit()\n",
    "    except psycopg2.Error as e:\n",
    "        print(\"Erreur lors de l'insertion des données\")\n",
    "        print(e)\n",
    "        return\n",
    "    cursor.close()\n",
    "    print(\"Les données ont été insérées avec succès\")"
   ]
  },
  {
   "cell_type": "code",
   "execution_count": null,
   "metadata": {},
   "outputs": [],
   "source": [
    "def renvoyer_annee_titre_film(title):\n",
    "    new_title = title.strip()\n",
    "    year = None\n",
    "    \n",
    "    try:\n",
    "        if new_title[-6] == '(' and new_title [-1] == ')':\n",
    "            year = int(new_title[-5:-1])\n",
    "            new_title = new_title[:-6].strip()\n",
    "    \n",
    "    except:\n",
    "        pass\n",
    "    \n",
    "    return year, new_title\n"
   ]
  }
 ],
 "metadata": {
  "kernelspec": {
   "display_name": "Python 3",
   "language": "python",
   "name": "python3"
  },
  "language_info": {
   "codemirror_mode": {
    "name": "ipython",
    "version": 3
   },
   "file_extension": ".py",
   "mimetype": "text/x-python",
   "name": "python",
   "nbconvert_exporter": "python",
   "pygments_lexer": "ipython3",
   "version": "3.8.6"
  }
 },
 "nbformat": 4,
 "nbformat_minor": 4
}
