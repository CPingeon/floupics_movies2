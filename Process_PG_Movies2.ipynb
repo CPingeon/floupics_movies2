{
 "cells": [
  {
   "cell_type": "markdown",
   "metadata": {},
   "source": [
    "## Connexion à la base de données sur PostgreSQL"
   ]
  },
  {
   "cell_type": "markdown",
   "metadata": {},
   "source": [
    "_Connexion entre la base de données créée directepment sur PostgreSQL et Python_"
   ]
  },
  {
   "cell_type": "markdown",
   "metadata": {},
   "source": [
    "---"
   ]
  },
  {
   "cell_type": "code",
   "execution_count": 22,
   "metadata": {},
   "outputs": [],
   "source": [
    "import os, psycopg2, utils, csv"
   ]
  },
  {
   "cell_type": "code",
   "execution_count": 23,
   "metadata": {},
   "outputs": [],
   "source": [
    "from pathlib import Path"
   ]
  },
  {
   "cell_type": "code",
   "execution_count": 24,
   "metadata": {},
   "outputs": [],
   "source": [
    "def ouvrir_connection(nom_bdd, utilisateur, mot_passe, host='localhost', port=5432):\n",
    "    \n",
    "    try:\n",
    "        conn = psycopg2.connect(dbname=nom_bdd, user=utilisateur, password=mot_passe, host=host, port=5432)\n",
    "    except psycopg2.Error as e:\n",
    "        print(\"Erreur lors de la connection à la base de données\")\n",
    "        print(e)\n",
    "        return None\n",
    "    conn.set_session(autocommit=True)\n",
    "    \n",
    "    return conn"
   ]
  },
  {
   "cell_type": "code",
   "execution_count": 25,
   "metadata": {},
   "outputs": [],
   "source": [
    "ma_base_donnees = \"floupics_mov2\"\n",
    "utilisateur = \"postgres\"\n",
    "mot_passe = os.environ.get(\"pg_psw\")"
   ]
  },
  {
   "cell_type": "code",
   "execution_count": 26,
   "metadata": {},
   "outputs": [
    {
     "data": {
      "text/plain": [
       "psycopg2.extensions.connection"
      ]
     },
     "execution_count": 26,
     "metadata": {},
     "output_type": "execute_result"
    }
   ],
   "source": [
    "conn = ouvrir_connection(ma_base_donnees, utilisateur, mot_passe)\n",
    "\n",
    "type(conn)"
   ]
  },
  {
   "cell_type": "markdown",
   "metadata": {},
   "source": [
    "---"
   ]
  },
  {
   "cell_type": "markdown",
   "metadata": {},
   "source": [
    "## Création des tables par le biais de requêtes SQL"
   ]
  },
  {
   "cell_type": "markdown",
   "metadata": {},
   "source": [
    "_Utilisation de Python pour exécuter des requêtes SQL afin de créer les tables de la BDD_"
   ]
  },
  {
   "cell_type": "markdown",
   "metadata": {},
   "source": [
    "---"
   ]
  },
  {
   "cell_type": "code",
   "execution_count": 27,
   "metadata": {},
   "outputs": [],
   "source": [
    "sql_creer_tables = \"\"\"\n",
    "    CREATE TABLE IF NOT EXISTS movies (\n",
    "    movieId INT UNIQUE PRIMARY KEY,\n",
    "    title TEXT NOT NULL,\n",
    "    genres TEXT NOT NULL);\n",
    "    \n",
    "    CREATE TABLE IF NOT EXISTS links (\n",
    "    movieId INT PRIMARY KEY NOT NULL,\n",
    "    imdbId VARCHAR,\n",
    "    tmdbId VARCHAR,\n",
    "    FOREIGN KEY (movieId) REFERENCES movies(movieId));\n",
    "    \n",
    "    CREATE TABLE IF NOT EXISTS ratings (\n",
    "    userId INT NOT NULL,\n",
    "    movieId INT NOT NULL,\n",
    "    rating REAL NOT NULL,\n",
    "    timestamp INT NOT NULL,\n",
    "    PRIMARY KEY (userId, movieId),\n",
    "    foreign key(movieId) REFERENCES movies(movieId));\n",
    "    \n",
    "    CREATE TABLE IF NOT EXISTS tags (\n",
    "    userId INT NOT NULL,\n",
    "    movieId INT NOT NULL,\n",
    "    tag TEXT NOT NULL,\n",
    "    timestamp INT NOT NULL,\n",
    "    FOREIGN KEY (movieId) REFERENCES movies(movieId));\n",
    "\"\"\""
   ]
  },
  {
   "cell_type": "code",
   "execution_count": 28,
   "metadata": {},
   "outputs": [],
   "source": [
    "def creer_table(conn, sql_creation_table):\n",
    "    try:\n",
    "        cursor = conn.cursor()\n",
    "        cursor.execute(sql_creation_table)\n",
    "        conn.commit()\n",
    "    except psycopg2.Error as e:\n",
    "        print(\"Erreur lors de la création de la table\")\n",
    "        print(e)\n",
    "        return\n",
    "    cursor.close()\n",
    "    print(\"Les tables ont été crées avec succès\")"
   ]
  },
  {
   "cell_type": "code",
   "execution_count": 29,
   "metadata": {},
   "outputs": [
    {
     "name": "stdout",
     "output_type": "stream",
     "text": [
      "Les tables ont été crées avec succès\n"
     ]
    }
   ],
   "source": [
    "creer_table(conn, sql_creer_tables)"
   ]
  },
  {
   "cell_type": "markdown",
   "metadata": {},
   "source": [
    "---"
   ]
  },
  {
   "cell_type": "markdown",
   "metadata": {},
   "source": [
    "## Insertion des données par le biais des fichiers CSV"
   ]
  },
  {
   "cell_type": "markdown",
   "metadata": {},
   "source": [
    "_Insertion des données présentes dans les fichiers CSV fournis dans aa la BDD_"
   ]
  },
  {
   "cell_type": "markdown",
   "metadata": {},
   "source": [
    "---"
   ]
  },
  {
   "cell_type": "code",
   "execution_count": 30,
   "metadata": {},
   "outputs": [],
   "source": [
    "import utils"
   ]
  },
  {
   "cell_type": "code",
   "execution_count": 31,
   "metadata": {},
   "outputs": [],
   "source": [
    "def lire_csv_dict(nom_fichier):\n",
    "    data = []\n",
    "    with open(nom_fichier, newline='', encoding='utf-8') as csvfile:\n",
    "        reader = csv.DictReader(csvfile)\n",
    "        for row in reader:\n",
    "            data.append(row)\n",
    "    return data"
   ]
  },
  {
   "cell_type": "code",
   "execution_count": 32,
   "metadata": {},
   "outputs": [],
   "source": [
    "from pathlib import Path\n",
    "\n",
    "repertoire_data = Path('data/')\n",
    "\n",
    "chemin_movies = repertoire_data / 'movies.csv'\n",
    "chemin_links = repertoire_data / 'links.csv'\n",
    "chemin_ratings = repertoire_data / 'ratings.csv'\n",
    "chemin_tags = repertoire_data / 'tags.csv'"
   ]
  },
  {
   "cell_type": "code",
   "execution_count": 33,
   "metadata": {},
   "outputs": [],
   "source": [
    "def inserer_donnees(conn, sql_insertion_table, donnees):\n",
    "    try:\n",
    "        cursor = conn.cursor()\n",
    "        for d in donnees:\n",
    "            cursor.execute(sql_insertion_table, d)\n",
    "        conn.commit()\n",
    "    except psycopg2.Error as e:\n",
    "        print(\"Erreur lors de l'insertion des données\")\n",
    "        print(e)\n",
    "        return\n",
    "    cursor.close()\n",
    "    print(\"Les données ont été insérées avec succès\")"
   ]
  },
  {
   "cell_type": "markdown",
   "metadata": {},
   "source": [
    "---"
   ]
  },
  {
   "cell_type": "markdown",
   "metadata": {},
   "source": [
    "### Importation données table \"movies\""
   ]
  },
  {
   "cell_type": "markdown",
   "metadata": {},
   "source": [
    "_Première table : \"movies\", essentielle puisque plusieurs clés étrangères sont réliées vers elle_"
   ]
  },
  {
   "cell_type": "markdown",
   "metadata": {},
   "source": [
    "---"
   ]
  },
  {
   "cell_type": "code",
   "execution_count": 37,
   "metadata": {},
   "outputs": [],
   "source": [
    "movies_dict = utils.lire_csv_dict(chemin_movies)"
   ]
  },
  {
   "cell_type": "code",
   "execution_count": 38,
   "metadata": {},
   "outputs": [],
   "source": [
    "sql_inserer_movies_dict = \"\"\"\n",
    "    INSERT INTO movies\n",
    "    (movieId, title, genres)\n",
    "    VALUES (%(movieId)s, %(title)s, %(genres)s);\n",
    "\"\"\""
   ]
  },
  {
   "cell_type": "code",
   "execution_count": 39,
   "metadata": {},
   "outputs": [
    {
     "name": "stdout",
     "output_type": "stream",
     "text": [
      "Les données ont été insérées avec succès\n"
     ]
    }
   ],
   "source": [
    "inserer_donnees(conn, sql_inserer_movies_dict, movies_dict)"
   ]
  },
  {
   "cell_type": "markdown",
   "metadata": {},
   "source": [
    "---"
   ]
  },
  {
   "cell_type": "markdown",
   "metadata": {},
   "source": [
    "### Importation données table \"ratings\""
   ]
  },
  {
   "cell_type": "markdown",
   "metadata": {},
   "source": [
    "_Seconde table : \"ratings\", importante elle aussi car reliées liée particulièrement à \"movies\"_"
   ]
  },
  {
   "cell_type": "markdown",
   "metadata": {},
   "source": [
    "---"
   ]
  },
  {
   "cell_type": "code",
   "execution_count": 40,
   "metadata": {},
   "outputs": [],
   "source": [
    "ratings_dict = utils.lire_csv_dict(chemin_ratings)"
   ]
  },
  {
   "cell_type": "code",
   "execution_count": 41,
   "metadata": {},
   "outputs": [],
   "source": [
    "sql_inserer_ratings_dict = \"\"\"\n",
    "    INSERT INTO ratings\n",
    "    (userId, movieId, rating, timestamp)\n",
    "    VALUES (%(userId)s, %(movieId)s, %(rating)s, %(timestamp)s);\n",
    "\"\"\""
   ]
  },
  {
   "cell_type": "code",
   "execution_count": 42,
   "metadata": {},
   "outputs": [
    {
     "name": "stdout",
     "output_type": "stream",
     "text": [
      "Les données ont été insérées avec succès\n"
     ]
    }
   ],
   "source": [
    "inserer_donnees(conn, sql_inserer_ratings_dict, ratings_dict)"
   ]
  },
  {
   "cell_type": "markdown",
   "metadata": {},
   "source": [
    "---"
   ]
  },
  {
   "cell_type": "markdown",
   "metadata": {},
   "source": [
    "### Importation données table \"links\""
   ]
  },
  {
   "cell_type": "markdown",
   "metadata": {},
   "source": [
    "_Troisième table : \"links\", la moins instructive des quatre_"
   ]
  },
  {
   "cell_type": "markdown",
   "metadata": {},
   "source": [
    "---"
   ]
  },
  {
   "cell_type": "code",
   "execution_count": 43,
   "metadata": {},
   "outputs": [],
   "source": [
    "links_dict = utils.lire_csv_dict(chemin_links)"
   ]
  },
  {
   "cell_type": "code",
   "execution_count": 44,
   "metadata": {},
   "outputs": [],
   "source": [
    "sql_inserer_links_dict = \"\"\"\n",
    "    INSERT INTO links\n",
    "    (movieId, imdbId, tmdbId)\n",
    "    VALUES (%(movieId)s, %(imdbId)s, %(tmdbId)s);\n",
    "\"\"\""
   ]
  },
  {
   "cell_type": "code",
   "execution_count": 45,
   "metadata": {},
   "outputs": [
    {
     "name": "stdout",
     "output_type": "stream",
     "text": [
      "Les données ont été insérées avec succès\n"
     ]
    }
   ],
   "source": [
    "inserer_donnees(conn, sql_inserer_links_dict, links_dict)"
   ]
  },
  {
   "cell_type": "markdown",
   "metadata": {},
   "source": [
    "---"
   ]
  },
  {
   "cell_type": "markdown",
   "metadata": {},
   "source": [
    "### Importation données table \"tags\""
   ]
  },
  {
   "cell_type": "markdown",
   "metadata": {},
   "source": [
    "_Enfin, quatrième et dernière table : \"tags\"_"
   ]
  },
  {
   "cell_type": "markdown",
   "metadata": {},
   "source": [
    "---"
   ]
  },
  {
   "cell_type": "code",
   "execution_count": 46,
   "metadata": {},
   "outputs": [],
   "source": [
    "tags_dict = utils.lire_csv_dict(chemin_tags)"
   ]
  },
  {
   "cell_type": "code",
   "execution_count": 47,
   "metadata": {},
   "outputs": [],
   "source": [
    "sql_inserer_tags_dict = \"\"\"\n",
    "    INSERT INTO tags\n",
    "    (userId, movieId, tag, timestamp)\n",
    "    VALUES (%(userId)s, %(movieId)s, %(tag)s, %(timestamp)s);\n",
    "\"\"\""
   ]
  },
  {
   "cell_type": "code",
   "execution_count": 49,
   "metadata": {},
   "outputs": [
    {
     "name": "stdout",
     "output_type": "stream",
     "text": [
      "Les données ont été insérées avec succès\n"
     ]
    }
   ],
   "source": [
    "inserer_donnees(conn, sql_inserer_tags_dict, tags_dict)"
   ]
  },
  {
   "cell_type": "markdown",
   "metadata": {},
   "source": [
    "---"
   ]
  },
  {
   "cell_type": "markdown",
   "metadata": {},
   "source": [
    "## Lecture des données importées"
   ]
  },
  {
   "cell_type": "markdown",
   "metadata": {},
   "source": [
    "_Une fois les données importées, place aux requêtes SQL_"
   ]
  },
  {
   "cell_type": "markdown",
   "metadata": {},
   "source": [
    "---"
   ]
  },
  {
   "cell_type": "code",
   "execution_count": 52,
   "metadata": {},
   "outputs": [],
   "source": [
    "def lire_donnees(conn, sql_requete):\n",
    "    try:\n",
    "        cursor = conn.cursor()\n",
    "        cursor.execute(sql_requete)\n",
    "        conn.commit()\n",
    "    except psycopg2.Error as e:\n",
    "        print(\"Erreur lors de la lecture des données\")\n",
    "        print(e)\n",
    "        return None\n",
    "    \n",
    "    print(\"Les données ont été lues avec succès\")\n",
    "    data = []\n",
    "    for row in cursor:\n",
    "        data.append(row)\n",
    "\n",
    "    cursor.close()\n",
    "    \n",
    "    return data"
   ]
  },
  {
   "cell_type": "markdown",
   "metadata": {},
   "source": [
    "---"
   ]
  },
  {
   "cell_type": "markdown",
   "metadata": {},
   "source": [
    "### _Quels sont les 15 films les mieux notés ?_"
   ]
  },
  {
   "cell_type": "code",
   "execution_count": 61,
   "metadata": {},
   "outputs": [],
   "source": [
    "sql_lire_films_notes = \"\"\"\n",
    "    SELECT title, count(rating), avg(rating)\n",
    "    FROM movies INNER JOIN ratings on movies.movieId=ratings.movieId\n",
    "    GROUP BY title\n",
    "    HAVING count(rating) > 40\n",
    "    ORDER BY avg(rating) DESC\n",
    "    LIMIT 15\n",
    "\"\"\""
   ]
  },
  {
   "cell_type": "code",
   "execution_count": 64,
   "metadata": {},
   "outputs": [
    {
     "name": "stdout",
     "output_type": "stream",
     "text": [
      "Les données ont été lues avec succès\n"
     ]
    },
    {
     "data": {
      "text/plain": [
       "[('Shawshank Redemption, The (1994)', 317, 4.429022082018927),\n",
       " ('Lawrence of Arabia (1962)', 45, 4.3),\n",
       " ('Godfather, The (1972)', 192, 4.2890625),\n",
       " ('Fight Club (1999)', 218, 4.272935779816514),\n",
       " ('Cool Hand Luke (1967)', 57, 4.271929824561403),\n",
       " ('Dr. Strangelove or: How I Learned to Stop Worrying and Love the Bomb (1964)',\n",
       "  97,\n",
       "  4.268041237113402),\n",
       " ('Rear Window (1954)', 84, 4.261904761904762),\n",
       " ('Godfather: Part II, The (1974)', 129, 4.25968992248062),\n",
       " ('Departed, The (2006)', 107, 4.252336448598131),\n",
       " ('Goodfellas (1990)', 126, 4.25),\n",
       " ('Casablanca (1942)', 100, 4.24),\n",
       " ('Dark Knight, The (2008)', 149, 4.238255033557047),\n",
       " ('Usual Suspects, The (1995)', 204, 4.237745098039215),\n",
       " ('Princess Bride, The (1987)', 142, 4.232394366197183),\n",
       " ('Star Wars: Episode IV - A New Hope (1977)', 251, 4.231075697211155)]"
      ]
     },
     "execution_count": 64,
     "metadata": {},
     "output_type": "execute_result"
    }
   ],
   "source": [
    "lire_donnees(conn, sql_lire_films_notes)"
   ]
  },
  {
   "cell_type": "markdown",
   "metadata": {},
   "source": [
    "---"
   ]
  },
  {
   "cell_type": "markdown",
   "metadata": {},
   "source": [
    "### _Les 15 films les mieux notés avec += 40 avis ?_"
   ]
  },
  {
   "cell_type": "code",
   "execution_count": 74,
   "metadata": {},
   "outputs": [],
   "source": [
    "sql_lire_films_best = \"\"\"\n",
    "    SELECT title, count(rating), avg(rating)\n",
    "    FROM movies INNER JOIN ratings on movies.movieId=ratings.movieId\n",
    "    GROUP BY title\n",
    "    ORDER BY avg(rating) DESC\n",
    "    LIMIT 15\n",
    "\"\"\""
   ]
  },
  {
   "cell_type": "code",
   "execution_count": 75,
   "metadata": {},
   "outputs": [
    {
     "name": "stdout",
     "output_type": "stream",
     "text": [
      "Les données ont été lues avec succès\n"
     ]
    },
    {
     "data": {
      "text/plain": [
       "[('Mystery of the Third Planet, The (Tayna tretey planety) (1981)', 1, 5.0),\n",
       " ('Garden of Words, The (Koto no ha no niwa) (2013)', 1, 5.0),\n",
       " ('Brother (Brat) (1997)', 1, 5.0),\n",
       " ('Into the Woods (1991)', 1, 5.0),\n",
       " ('Dream of Light (a.k.a. Quince Tree Sun, The) (Sol del membrillo, El) (1992)',\n",
       "  1,\n",
       "  5.0),\n",
       " ('Meantime (1984)', 1, 5.0),\n",
       " ('Nasu: Summer in Andalusia (2003)', 1, 5.0),\n",
       " ('Holy Motors (2012)', 1, 5.0),\n",
       " ('Watching the Detectives (2007)', 1, 5.0),\n",
       " ('Eva (2011)', 1, 5.0),\n",
       " ('Story of Women (Affaire de femmes, Une) (1988)', 1, 5.0),\n",
       " ('Connections (1978)', 1, 5.0),\n",
       " ('Go for Zucker! (Alles auf Zucker!) (2004)', 1, 5.0),\n",
       " ('Girls About Town (1931)', 1, 5.0),\n",
       " ('What Men Talk About (2010)', 1, 5.0)]"
      ]
     },
     "execution_count": 75,
     "metadata": {},
     "output_type": "execute_result"
    }
   ],
   "source": [
    "lire_donnees(conn, sql_lire_films_best)"
   ]
  },
  {
   "cell_type": "markdown",
   "metadata": {},
   "source": [
    "---"
   ]
  },
  {
   "cell_type": "markdown",
   "metadata": {},
   "source": [
    "### _Les utilisateurs les plus prolifiques et note moyenne ?_"
   ]
  },
  {
   "cell_type": "code",
   "execution_count": 81,
   "metadata": {},
   "outputs": [],
   "source": [
    "sql_lire_user_rating = \"\"\"\n",
    "    SELECT userId, COUNT(userId) as c_user, avg(rating)\n",
    "    FROM ratings\n",
    "    GROUP BY userId\n",
    "    ORDER BY c_user DESC\n",
    "    LIMIT 15\n",
    "\"\"\""
   ]
  },
  {
   "cell_type": "code",
   "execution_count": 82,
   "metadata": {},
   "outputs": [
    {
     "name": "stdout",
     "output_type": "stream",
     "text": [
      "Les données ont été lues avec succès\n"
     ]
    },
    {
     "data": {
      "text/plain": [
       "[(414, 2698, 3.391957005189029),\n",
       " (599, 2478, 2.6420500403551253),\n",
       " (474, 2108, 3.398956356736243),\n",
       " (448, 1864, 2.8473712446351933),\n",
       " (274, 1346, 3.235884101040119),\n",
       " (610, 1302, 3.6885560675883258),\n",
       " (68, 1260, 3.233730158730159),\n",
       " (380, 1218, 3.6732348111658455),\n",
       " (606, 1115, 3.6573991031390136),\n",
       " (288, 1055, 3.1459715639810426),\n",
       " (249, 1046, 3.6964627151051626),\n",
       " (387, 1027, 3.2585199610516065),\n",
       " (182, 977, 3.5112589559877176),\n",
       " (307, 975, 2.6656410256410257),\n",
       " (603, 943, 3.5079533404029695)]"
      ]
     },
     "execution_count": 82,
     "metadata": {},
     "output_type": "execute_result"
    }
   ],
   "source": [
    "lire_donnees(conn, sql_lire_user_rating)"
   ]
  },
  {
   "cell_type": "markdown",
   "metadata": {},
   "source": [
    "---"
   ]
  },
  {
   "cell_type": "markdown",
   "metadata": {},
   "source": [
    "### _Films avec le plus de tags ?_"
   ]
  },
  {
   "cell_type": "code",
   "execution_count": 114,
   "metadata": {},
   "outputs": [],
   "source": [
    "sql_lire_count_tags = \"\"\"\n",
    "    SELECT title, COUNT(tag) as c_user\n",
    "    FROM tags INNER JOIN movies on tags.movieId=movies.movieId\n",
    "    GROUP BY title\n",
    "    ORDER BY c_user DESC\n",
    "    LIMIT 15\n",
    "\"\"\""
   ]
  },
  {
   "cell_type": "code",
   "execution_count": 115,
   "metadata": {},
   "outputs": [
    {
     "name": "stdout",
     "output_type": "stream",
     "text": [
      "Les données ont été lues avec succès\n"
     ]
    },
    {
     "data": {
      "text/plain": [
       "[('Pulp Fiction (1994)', 181),\n",
       " ('Fight Club (1999)', 54),\n",
       " ('2001: A Space Odyssey (1968)', 41),\n",
       " ('Léon: The Professional (a.k.a. The Professional) (Léon) (1994)', 35),\n",
       " ('Eternal Sunshine of the Spotless Mind (2004)', 34),\n",
       " ('Big Lebowski, The (1998)', 32),\n",
       " ('Donnie Darko (2001)', 29),\n",
       " ('Star Wars: Episode IV - A New Hope (1977)', 26),\n",
       " ('Inception (2010)', 26),\n",
       " ('Suicide Squad (2016)', 19),\n",
       " ('In the Mood For Love (Fa yeung nin wa) (2000)', 18),\n",
       " ('Avatar (2009)', 18),\n",
       " ('Pi (1998)', 17),\n",
       " ('Eraserhead (1977)', 17),\n",
       " ('Avengers: Infinity War - Part I (2018)', 15)]"
      ]
     },
     "execution_count": 115,
     "metadata": {},
     "output_type": "execute_result"
    }
   ],
   "source": [
    "lire_donnees(conn, sql_lire_count_tags)"
   ]
  },
  {
   "cell_type": "markdown",
   "metadata": {},
   "source": [
    "---"
   ]
  },
  {
   "cell_type": "markdown",
   "metadata": {},
   "source": [
    "### _25 tags les plus souvent utilisés ?_"
   ]
  },
  {
   "cell_type": "code",
   "execution_count": 104,
   "metadata": {},
   "outputs": [],
   "source": [
    "sql_lire_tags = \"\"\"\n",
    "    SELECT tag, COUNT(tag)\n",
    "    FROM tags\n",
    "    GROUP BY tag\n",
    "    ORDER BY COUNT(tag) DESC\n",
    "    LIMIT 15\n",
    "\"\"\""
   ]
  },
  {
   "cell_type": "code",
   "execution_count": 105,
   "metadata": {},
   "outputs": [
    {
     "name": "stdout",
     "output_type": "stream",
     "text": [
      "Les données ont été lues avec succès\n"
     ]
    },
    {
     "data": {
      "text/plain": [
       "[('In Netflix queue', 131),\n",
       " ('atmospheric', 36),\n",
       " ('thought-provoking', 24),\n",
       " ('superhero', 24),\n",
       " ('surreal', 23),\n",
       " ('Disney', 23),\n",
       " ('funny', 23),\n",
       " ('religion', 22),\n",
       " ('dark comedy', 21),\n",
       " ('sci-fi', 21),\n",
       " ('psychology', 21),\n",
       " ('quirky', 21),\n",
       " ('suspense', 20),\n",
       " ('crime', 19),\n",
       " ('twist ending', 19)]"
      ]
     },
     "execution_count": 105,
     "metadata": {},
     "output_type": "execute_result"
    }
   ],
   "source": [
    "lire_donnees(conn, sql_lire_tags)"
   ]
  },
  {
   "cell_type": "markdown",
   "metadata": {},
   "source": [
    "---"
   ]
  },
  {
   "cell_type": "markdown",
   "metadata": {},
   "source": [
    "## Ajouter colonne \"year\" dans la table \"movies\""
   ]
  },
  {
   "cell_type": "markdown",
   "metadata": {},
   "source": [
    "_Dans une idée d'amélioration de la BBD, création de la colonne \"year\" dans la table \"movies\" avant de séparer les données_"
   ]
  },
  {
   "cell_type": "markdown",
   "metadata": {},
   "source": [
    "---"
   ]
  },
  {
   "cell_type": "code",
   "execution_count": null,
   "metadata": {},
   "outputs": [],
   "source": [
    "def execute_sql(conn, sql_requete):\n",
    "    \n",
    "    cursor = conn.cursor()\n",
    "    cursor.execute(sql_requete)\n",
    "    conn.commit()\n",
    "    cursor.close()"
   ]
  },
  {
   "cell_type": "code",
   "execution_count": null,
   "metadata": {},
   "outputs": [],
   "source": [
    "sql_create_year = \"\"\"\n",
    "    ALTER TABLE movies\n",
    "    ADD year VARCHAR\n",
    "\"\"\""
   ]
  },
  {
   "cell_type": "code",
   "execution_count": null,
   "metadata": {},
   "outputs": [],
   "source": [
    "execute_sql(conn, sql_create_year)"
   ]
  },
  {
   "cell_type": "markdown",
   "metadata": {},
   "source": [
    "---"
   ]
  }
 ],
 "metadata": {
  "kernelspec": {
   "display_name": "Python 3",
   "language": "python",
   "name": "python3"
  },
  "language_info": {
   "codemirror_mode": {
    "name": "ipython",
    "version": 3
   },
   "file_extension": ".py",
   "mimetype": "text/x-python",
   "name": "python",
   "nbconvert_exporter": "python",
   "pygments_lexer": "ipython3",
   "version": "3.8.6"
  }
 },
 "nbformat": 4,
 "nbformat_minor": 4
}
