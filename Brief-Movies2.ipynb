{
 "cells": [
  {
   "cell_type": "code",
   "execution_count": 75,
   "metadata": {},
   "outputs": [],
   "source": [
    "import os\n",
    "import sqlite3\n",
    "from pathlib import Path\n",
    "import csv\n",
    "import utils\n",
    "import psycopg2"
   ]
  },
  {
   "cell_type": "code",
   "execution_count": 76,
   "metadata": {},
   "outputs": [],
   "source": [
    "chemin_movies = \"data/movies.csv\"\n",
    "chemin_links = \"data/links.csv\"\n",
    "chemin_ratings = \"data/ratings.csv\"\n",
    "chemin_tags = \"data/tags.csv\""
   ]
  },
  {
   "cell_type": "code",
   "execution_count": 77,
   "metadata": {},
   "outputs": [],
   "source": [
    "def ouvrir_connection(nom_bdd, utilisateur, mot_passe, host='localhost', port=5432):\n",
    "    try:\n",
    "        conn = psycopg2.connect(dbname=nom_bdd, user=utilisateur, password=mot_passe, host=host, port=5432)\n",
    "    except psycopg2.Error as e:\n",
    "        print(\"Erreur lors de la connection à la base de données\")\n",
    "        print(e)\n",
    "        return None\n",
    "    conn.set_session(autocommit=True)\n",
    "    return conn"
   ]
  },
  {
   "cell_type": "code",
   "execution_count": 78,
   "metadata": {},
   "outputs": [],
   "source": [
    "ma_base_donnees = \"Movies2\"\n",
    "utilisateur = \"postgres\"\n",
    "mot_passe = os.environ.get('pg_psw')"
   ]
  },
  {
   "cell_type": "code",
   "execution_count": 79,
   "metadata": {},
   "outputs": [
    {
     "data": {
      "text/plain": [
       "psycopg2.extensions.connection"
      ]
     },
     "execution_count": 79,
     "metadata": {},
     "output_type": "execute_result"
    }
   ],
   "source": [
    "conn = ouvrir_connection(ma_base_donnees, utilisateur, mot_passe)\n",
    "\n",
    "type(conn)"
   ]
  },
  {
   "cell_type": "code",
   "execution_count": 110,
   "metadata": {},
   "outputs": [],
   "source": [
    "def supprimer_table(conn, sql_suppression_table):\n",
    "    try:\n",
    "        cursor = conn.cursor()\n",
    "        cursor.execute(sql_suppression_table)\n",
    "        conn.commit()\n",
    "    except psycopg2.Error as e:\n",
    "        print(\"Erreur lors de la suppression de la table\")\n",
    "        print(e)\n",
    "        return\n",
    "    cursor.close()\n",
    "    print(\"La table a été supprimée avec succès\")\n",
    "\n",
    "    \n",
    "def creer_table(conn, sql_creation_table):\n",
    "    try:\n",
    "        cursor = conn.cursor()\n",
    "        cursor.execute(sql_creation_table)\n",
    "        conn.commit()\n",
    "    except psycopg2.Error as e:\n",
    "        print(\"Erreur lors de la création de la table\")\n",
    "        print(e)\n",
    "        return\n",
    "    cursor.close()\n",
    "    print(\"La table a été créée avec succès\")\n",
    "    \n",
    "def creer_colonne(conn, pgsql_creation_colonne):\n",
    "    try:\n",
    "        cursor = conn.cursor()\n",
    "        cursor.execute(pgsql_creation_colonne)\n",
    "        conn.commit()\n",
    "    except psycopg2.Error as e:\n",
    "        print(\"Erreur lors de la création de la colonne\")\n",
    "        print(e)\n",
    "        return\n",
    "    cursor.close()\n",
    "    print(\"La colonne a été créée avec succès\")\n",
    "\n",
    "    \n",
    "def inserer_donnees(conn, sql_insertion_table, donnees):\n",
    "    try:\n",
    "        cursor = conn.cursor()\n",
    "        for d in donnees:\n",
    "            cursor.execute(sql_insertion_table, d)\n",
    "        conn.commit()\n",
    "    except psycopg2.Error as e:\n",
    "        print(\"Erreur lors de l'insertion des données\")\n",
    "        print(e)\n",
    "        return\n",
    "    cursor.close()\n",
    "    print(\"Les données ont été insérées avec succès\")\n",
    "\n",
    "    \n",
    "def lire_donnees(conn, sql_requete):\n",
    "    try:\n",
    "        cursor = conn.cursor()\n",
    "        cursor.execute(sql_requete)\n",
    "        conn.commit()\n",
    "    except psycopg2.Error as e:\n",
    "        print(\"Erreur lors de la lecture des données\")\n",
    "        print(e)\n",
    "        return None\n",
    "    \n",
    "    print(\"Les données ont été lues avec succès\")\n",
    "    data = []\n",
    "    for row in cursor:\n",
    "        data.append(row)\n",
    "\n",
    "    cursor.close()\n",
    "    \n",
    "    return data"
   ]
  },
  {
   "cell_type": "code",
   "execution_count": 111,
   "metadata": {},
   "outputs": [
    {
     "name": "stdout",
     "output_type": "stream",
     "text": [
      "La table a été créée avec succès\n"
     ]
    }
   ],
   "source": [
    "creer_table(conn, pgsql_creer_table)"
   ]
  },
  {
   "cell_type": "code",
   "execution_count": 112,
   "metadata": {},
   "outputs": [],
   "source": [
    "pgsql_creer_table = \"\"\"\n",
    "    CREATE TABLE IF NOT EXISTS movies (\n",
    "    movieId INT UNIQUE PRIMARY KEY,\n",
    "    title VARCHAR NOT NULL,\n",
    "    genres VARCHAR NOT NULL);\n",
    "\n",
    "    CREATE TABLE IF NOT EXISTS links (\n",
    "    movieId INT PRIMARY KEY NOT NULL,\n",
    "    imdbId VARCHAR,\n",
    "    tmdbId VARCHAR,\n",
    "    FOREIGN KEY (movieId) REFERENCES movies(movieId));\n",
    "\n",
    "    CREATE TABLE IF NOT EXISTS ratings (\n",
    "    userId INT NOT NULL,\n",
    "    movieId INT NOT NULL,\n",
    "    rating REAL NOT NULL,\n",
    "    timestamp INT NOT NULL,\n",
    "    PRIMARY KEY (userId, movieId),\n",
    "    foreign key(movieId) REFERENCES movies(movieId));\n",
    "\n",
    "    CREATE TABLE IF NOT EXISTS tags (\n",
    "    userId INT NOT NULL,\n",
    "    movieId INT NOT NULL,\n",
    "    tag VARCHAR NOT NULL,\n",
    "    timestamp INT NOT NULL,\n",
    "    FOREIGN KEY (movieId) REFERENCES movies(movieId));\n",
    "\"\"\""
   ]
  },
  {
   "cell_type": "code",
   "execution_count": 113,
   "metadata": {},
   "outputs": [],
   "source": [
    "pgsql_creer_colonne = \"\"\"\n",
    "    ALTER TABLE movies\n",
    "    ADD year integer;\n",
    "    \n",
    "    ALTER TABLE movies\n",
    "    ADD title_only VARCHAR;\n",
    "\"\"\""
   ]
  },
  {
   "cell_type": "code",
   "execution_count": 114,
   "metadata": {},
   "outputs": [],
   "source": [
    "pgsql_inserer_movies = \"\"\"\n",
    "    INSERT INTO movies \n",
    "    (movieId, title, genres)\n",
    "    VALUES (%(movieId)s, %(title)s, %(genres)s);\n",
    "\"\"\"\n",
    "\n",
    "pgsql_inserer_links = \"\"\"\n",
    "    INSERT INTO links \n",
    "    (movieId, imdbId, tmdbId)\n",
    "    VALUES (%(movieId)s, %(imdbId)s, %(tmdbId)s);\n",
    "\"\"\"\n",
    "\n",
    "pgsql_inserer_ratings = \"\"\"\n",
    "    INSERT INTO ratings \n",
    "    (userId, movieId, rating, timestamp)\n",
    "    VALUES (%(userId)s, %(movieId)s, %(rating)s, %(timestamp)s);\n",
    "\"\"\"\n",
    "pgsql_inserer_tags = \"\"\"\n",
    "    INSERT INTO tags \n",
    "    (userId, movieId, tag, timestamp)\n",
    "    VALUES (%(userId)s, %(movieId)s, %(tag)s, %(timestamp)s);\n",
    "\"\"\""
   ]
  },
  {
   "cell_type": "code",
   "execution_count": 115,
   "metadata": {},
   "outputs": [],
   "source": [
    "def lire_csv_dict(nom_fichier):\n",
    "    data = []\n",
    "    with open(nom_fichier, newline='', encoding='utf-8') as csvfile:\n",
    "        reader = csv.DictReader(csvfile)\n",
    "        for row in reader:\n",
    "            data.append(row)\n",
    "    return data"
   ]
  },
  {
   "cell_type": "code",
   "execution_count": 116,
   "metadata": {},
   "outputs": [],
   "source": [
    "movies_dict = lire_csv_dict(chemin_movies)"
   ]
  },
  {
   "cell_type": "code",
   "execution_count": 117,
   "metadata": {},
   "outputs": [],
   "source": [
    "tags_dict = lire_csv_dict(chemin_tags)"
   ]
  },
  {
   "cell_type": "code",
   "execution_count": 118,
   "metadata": {},
   "outputs": [],
   "source": [
    "links_dict = lire_csv_dict(chemin_links)"
   ]
  },
  {
   "cell_type": "code",
   "execution_count": 119,
   "metadata": {},
   "outputs": [],
   "source": [
    "ratings_dict = lire_csv_dict(chemin_ratings)"
   ]
  },
  {
   "cell_type": "code",
   "execution_count": 120,
   "metadata": {},
   "outputs": [
    {
     "name": "stdout",
     "output_type": "stream",
     "text": [
      "Erreur lors de l'insertion des données\n",
      "ERREUR:  la valeur d'une clé dupliquée rompt la contrainte unique « movies_pkey »\n",
      "DETAIL:  La clé « (movieid)=(1) » existe déjà.\n",
      "\n"
     ]
    }
   ],
   "source": [
    "inserer_donnees(conn, pgsql_inserer_movies, movies_dict)"
   ]
  },
  {
   "cell_type": "code",
   "execution_count": 121,
   "metadata": {},
   "outputs": [
    {
     "name": "stdout",
     "output_type": "stream",
     "text": [
      "Erreur lors de l'insertion des données\n",
      "ERREUR:  la valeur d'une clé dupliquée rompt la contrainte unique « ratings_pkey »\n",
      "DETAIL:  La clé « (userid, movieid)=(1, 1) » existe déjà.\n",
      "\n"
     ]
    }
   ],
   "source": [
    "inserer_donnees(conn, pgsql_inserer_ratings, ratings_dict)"
   ]
  },
  {
   "cell_type": "code",
   "execution_count": 122,
   "metadata": {},
   "outputs": [
    {
     "name": "stdout",
     "output_type": "stream",
     "text": [
      "Les données ont été insérées avec succès\n"
     ]
    }
   ],
   "source": [
    "inserer_donnees(conn, pgsql_inserer_tags, tags_dict)"
   ]
  },
  {
   "cell_type": "code",
   "execution_count": 123,
   "metadata": {},
   "outputs": [
    {
     "name": "stdout",
     "output_type": "stream",
     "text": [
      "Erreur lors de l'insertion des données\n",
      "ERREUR:  la valeur d'une clé dupliquée rompt la contrainte unique « links_pkey »\n",
      "DETAIL:  La clé « (movieid)=(1) » existe déjà.\n",
      "\n"
     ]
    }
   ],
   "source": [
    "inserer_donnees(conn, pgsql_inserer_links, links_dict)"
   ]
  },
  {
   "cell_type": "markdown",
   "metadata": {},
   "source": [
    "### Quels sont les 15 films les mieux notés ?"
   ]
  },
  {
   "cell_type": "code",
   "execution_count": 124,
   "metadata": {},
   "outputs": [],
   "source": [
    "films_mieux_notes = \"\"\"\n",
    "    SELECT title, count(rating), avg(rating) \\\n",
    "    FROM movies INNER JOIN ratings on movies.movieId=ratings.movieId \\\n",
    "    GROUP BY title \\\n",
    "    ORDER BY avg(rating) DESC \\\n",
    "    LIMIT 15\n",
    "\"\"\""
   ]
  },
  {
   "cell_type": "code",
   "execution_count": 125,
   "metadata": {},
   "outputs": [
    {
     "name": "stdout",
     "output_type": "stream",
     "text": [
      "Les données ont été lues avec succès\n"
     ]
    },
    {
     "data": {
      "text/plain": [
       "[('Mystery of the Third Planet, The (Tayna tretey planety) (1981)', 1, 5.0),\n",
       " ('Garden of Words, The (Koto no ha no niwa) (2013)', 1, 5.0),\n",
       " ('Brother (Brat) (1997)', 1, 5.0),\n",
       " ('Into the Woods (1991)', 1, 5.0),\n",
       " ('Dream of Light (a.k.a. Quince Tree Sun, The) (Sol del membrillo, El) (1992)',\n",
       "  1,\n",
       "  5.0),\n",
       " ('Meantime (1984)', 1, 5.0),\n",
       " ('Nasu: Summer in Andalusia (2003)', 1, 5.0),\n",
       " ('Holy Motors (2012)', 1, 5.0),\n",
       " ('Watching the Detectives (2007)', 1, 5.0),\n",
       " ('Eva (2011)', 1, 5.0),\n",
       " ('Story of Women (Affaire de femmes, Une) (1988)', 1, 5.0),\n",
       " ('Connections (1978)', 1, 5.0),\n",
       " ('Go for Zucker! (Alles auf Zucker!) (2004)', 1, 5.0),\n",
       " ('Girls About Town (1931)', 1, 5.0),\n",
       " ('What Men Talk About (2010)', 1, 5.0)]"
      ]
     },
     "execution_count": 125,
     "metadata": {},
     "output_type": "execute_result"
    }
   ],
   "source": [
    "lire_donnees(conn, films_mieux_notes)"
   ]
  },
  {
   "cell_type": "markdown",
   "metadata": {},
   "source": [
    "### Quels sont les 15 films ayant reçu plus de 40 notes les mieux notés ?"
   ]
  },
  {
   "cell_type": "code",
   "execution_count": 126,
   "metadata": {},
   "outputs": [],
   "source": [
    "films_mieux_notes_40 = \"\"\"\n",
    "    SELECT title, count(rating), cast(avg(rating) AS DECIMAL (19,2)) \\\n",
    "    FROM movies INNER JOIN ratings on movies.movieId=ratings.movieId \\\n",
    "    GROUP BY title \\\n",
    "    HAVING count(rating) > 40 \\\n",
    "    ORDER BY avg(rating) DESC \\\n",
    "    LIMIT 15\n",
    "\"\"\""
   ]
  },
  {
   "cell_type": "code",
   "execution_count": 127,
   "metadata": {},
   "outputs": [
    {
     "name": "stdout",
     "output_type": "stream",
     "text": [
      "Les données ont été lues avec succès\n"
     ]
    },
    {
     "data": {
      "text/plain": [
       "[('Shawshank Redemption, The (1994)', 317, Decimal('4.43')),\n",
       " ('Lawrence of Arabia (1962)', 45, Decimal('4.30')),\n",
       " ('Godfather, The (1972)', 192, Decimal('4.29')),\n",
       " ('Fight Club (1999)', 218, Decimal('4.27')),\n",
       " ('Cool Hand Luke (1967)', 57, Decimal('4.27')),\n",
       " ('Dr. Strangelove or: How I Learned to Stop Worrying and Love the Bomb (1964)',\n",
       "  97,\n",
       "  Decimal('4.27')),\n",
       " ('Rear Window (1954)', 84, Decimal('4.26')),\n",
       " ('Godfather: Part II, The (1974)', 129, Decimal('4.26')),\n",
       " ('Departed, The (2006)', 107, Decimal('4.25')),\n",
       " ('Goodfellas (1990)', 126, Decimal('4.25')),\n",
       " ('Casablanca (1942)', 100, Decimal('4.24')),\n",
       " ('Dark Knight, The (2008)', 149, Decimal('4.24')),\n",
       " ('Usual Suspects, The (1995)', 204, Decimal('4.24')),\n",
       " ('Princess Bride, The (1987)', 142, Decimal('4.23')),\n",
       " ('Star Wars: Episode IV - A New Hope (1977)', 251, Decimal('4.23'))]"
      ]
     },
     "execution_count": 127,
     "metadata": {},
     "output_type": "execute_result"
    }
   ],
   "source": [
    "lire_donnees(conn, films_mieux_notes_40)"
   ]
  },
  {
   "cell_type": "markdown",
   "metadata": {},
   "source": [
    "### Quels sont les utilisateurs les plus prolifiques ?"
   ]
  },
  {
   "cell_type": "code",
   "execution_count": 128,
   "metadata": {},
   "outputs": [],
   "source": [
    "sql_moyenne_user = \"\"\"\n",
    "    select userId, count(rating), cast(avg(rating) AS DECIMAL (19,2))\n",
    "    from ratings r \n",
    "    group by userId \n",
    "    having count(rating) > 1000\n",
    "    order by count(rating) desc\n",
    "\"\"\""
   ]
  },
  {
   "cell_type": "code",
   "execution_count": 129,
   "metadata": {},
   "outputs": [
    {
     "name": "stdout",
     "output_type": "stream",
     "text": [
      "Les données ont été lues avec succès\n"
     ]
    },
    {
     "data": {
      "text/plain": [
       "[(414, 2698, Decimal('3.39')),\n",
       " (599, 2478, Decimal('2.64')),\n",
       " (474, 2108, Decimal('3.40')),\n",
       " (448, 1864, Decimal('2.85')),\n",
       " (274, 1346, Decimal('3.24')),\n",
       " (610, 1302, Decimal('3.69')),\n",
       " (68, 1260, Decimal('3.23')),\n",
       " (380, 1218, Decimal('3.67')),\n",
       " (606, 1115, Decimal('3.66')),\n",
       " (288, 1055, Decimal('3.15')),\n",
       " (249, 1046, Decimal('3.70')),\n",
       " (387, 1027, Decimal('3.26'))]"
      ]
     },
     "execution_count": 129,
     "metadata": {},
     "output_type": "execute_result"
    }
   ],
   "source": [
    "lire_donnees(conn, sql_moyenne_user)"
   ]
  },
  {
   "cell_type": "markdown",
   "metadata": {},
   "source": [
    "### Quels sont les 10 films recevant le plus de tags ?"
   ]
  },
  {
   "cell_type": "code",
   "execution_count": 130,
   "metadata": {},
   "outputs": [],
   "source": [
    "films_plus_tags = \"\"\"\n",
    "SELECT title, COUNT(*)\n",
    "    FROM tags INNER JOIN movies on tags.movieId=movies.movieId\n",
    "    GROUP BY title\n",
    "    ORDER BY COUNT(*) DESC\n",
    "    LIMIT 15\n",
    "\"\"\""
   ]
  },
  {
   "cell_type": "code",
   "execution_count": 131,
   "metadata": {},
   "outputs": [
    {
     "name": "stdout",
     "output_type": "stream",
     "text": [
      "Les données ont été lues avec succès\n"
     ]
    },
    {
     "data": {
      "text/plain": [
       "[('Pulp Fiction (1994)', 724),\n",
       " ('Fight Club (1999)', 216),\n",
       " ('2001: A Space Odyssey (1968)', 164),\n",
       " ('Léon: The Professional (a.k.a. The Professional) (Léon) (1994)', 140),\n",
       " ('Eternal Sunshine of the Spotless Mind (2004)', 136),\n",
       " ('Big Lebowski, The (1998)', 128),\n",
       " ('Donnie Darko (2001)', 116),\n",
       " ('Inception (2010)', 104),\n",
       " ('Star Wars: Episode IV - A New Hope (1977)', 104),\n",
       " ('Suicide Squad (2016)', 76),\n",
       " ('In the Mood For Love (Fa yeung nin wa) (2000)', 72),\n",
       " ('Avatar (2009)', 72),\n",
       " ('Pi (1998)', 68),\n",
       " ('Eraserhead (1977)', 68),\n",
       " ('Avengers: Infinity War - Part I (2018)', 60)]"
      ]
     },
     "execution_count": 131,
     "metadata": {},
     "output_type": "execute_result"
    }
   ],
   "source": [
    "lire_donnees(conn, films_plus_tags)"
   ]
  },
  {
   "cell_type": "markdown",
   "metadata": {},
   "source": [
    "### Quels sont les 25 tags les plus utilisés ? Avec quelle fréquence ?"
   ]
  },
  {
   "cell_type": "code",
   "execution_count": 132,
   "metadata": {},
   "outputs": [],
   "source": [
    "sql_frequence_tags = \"\"\"\n",
    "select tag, count(*)\n",
    "from tags t2 \n",
    "group by tag\n",
    "order by count(*) desc\n",
    "limit 25\n",
    "\"\"\""
   ]
  },
  {
   "cell_type": "code",
   "execution_count": 133,
   "metadata": {},
   "outputs": [
    {
     "name": "stdout",
     "output_type": "stream",
     "text": [
      "Les données ont été lues avec succès\n"
     ]
    },
    {
     "data": {
      "text/plain": [
       "[('In Netflix queue', 524),\n",
       " ('atmospheric', 144),\n",
       " ('thought-provoking', 96),\n",
       " ('superhero', 96),\n",
       " ('surreal', 92),\n",
       " ('funny', 92),\n",
       " ('Disney', 92),\n",
       " ('religion', 88),\n",
       " ('quirky', 84),\n",
       " ('psychology', 84),\n",
       " ('sci-fi', 84),\n",
       " ('dark comedy', 84),\n",
       " ('suspense', 80),\n",
       " ('visually appealing', 76),\n",
       " ('twist ending', 76),\n",
       " ('crime', 76),\n",
       " ('politics', 72),\n",
       " ('mental illness', 64),\n",
       " ('music', 64),\n",
       " ('time travel', 64),\n",
       " ('aliens', 60),\n",
       " ('dark', 60),\n",
       " ('comedy', 60),\n",
       " ('dreamlike', 56),\n",
       " ('space', 56)]"
      ]
     },
     "execution_count": 133,
     "metadata": {},
     "output_type": "execute_result"
    }
   ],
   "source": [
    "lire_donnees(conn, sql_frequence_tags)"
   ]
  },
  {
   "cell_type": "code",
   "execution_count": 134,
   "metadata": {},
   "outputs": [
    {
     "name": "stdout",
     "output_type": "stream",
     "text": [
      "Erreur lors de la création de la colonne\n",
      "ERREUR:  la colonne « year » de la relation « movies » existe déjà\n",
      "\n"
     ]
    }
   ],
   "source": [
    "creer_colonne(conn, pgsql_creer_colonne)"
   ]
  },
  {
   "cell_type": "code",
   "execution_count": null,
   "metadata": {},
   "outputs": [],
   "source": []
  },
  {
   "cell_type": "code",
   "execution_count": null,
   "metadata": {},
   "outputs": [],
   "source": []
  },
  {
   "cell_type": "code",
   "execution_count": null,
   "metadata": {},
   "outputs": [],
   "source": []
  },
  {
   "cell_type": "code",
   "execution_count": null,
   "metadata": {},
   "outputs": [],
   "source": []
  }
 ],
 "metadata": {
  "celltoolbar": "Format de la Cellule Texte Brut",
  "kernelspec": {
   "display_name": "Python 3",
   "language": "python",
   "name": "python3"
  },
  "language_info": {
   "codemirror_mode": {
    "name": "ipython",
    "version": 3
   },
   "file_extension": ".py",
   "mimetype": "text/x-python",
   "name": "python",
   "nbconvert_exporter": "python",
   "pygments_lexer": "ipython3",
   "version": "3.8.6"
  }
 },
 "nbformat": 4,
 "nbformat_minor": 4
}
