{
 "cells": [
  {
   "cell_type": "code",
   "execution_count": 1,
   "metadata": {},
   "outputs": [],
   "source": [
    "import postgreSQL_functions\n",
    "import utils\n",
    "import os\n",
    "import csv"
   ]
  },
  {
   "cell_type": "code",
   "execution_count": 2,
   "metadata": {},
   "outputs": [
    {
     "data": {
      "text/plain": [
       "psycopg2.extensions.connection"
      ]
     },
     "execution_count": 2,
     "metadata": {},
     "output_type": "execute_result"
    }
   ],
   "source": [
    "# conecter au base de donnee Floupics_movies\n",
    "ma_base_donnees = \"Floupics_Movies2\"\n",
    "utilisateur = \"postgres\"\n",
    "mot_passe = os.environ.get('pg_psw')\n",
    "\n",
    "conn = postgreSQL_functions.ouvrir_connection(ma_base_donnees, utilisateur, mot_passe)\n",
    "\n",
    "type(conn)"
   ]
  },
  {
   "cell_type": "markdown",
   "metadata": {},
   "source": [
    "### creation les tables movies, links, ratings, tags dans le base de donnes Floupics_movies\n",
    "\n"
   ]
  },
  {
   "cell_type": "code",
   "execution_count": 3,
   "metadata": {},
   "outputs": [
    {
     "name": "stdout",
     "output_type": "stream",
     "text": [
      "La table a été crée avec succès\n"
     ]
    }
   ],
   "source": [
    "# creation la table movies\n",
    "\n",
    "sql_creation_table_movies = \"\"\"\n",
    "    CREATE TABLE IF NOT EXISTS movies (\n",
    "    movieId INTEGER primary key,\n",
    "    title text,\n",
    "    genres text\n",
    "    );\n",
    "\"\"\"\n",
    "\n",
    "postgreSQL_functions.creer_table(conn, sql_creation_table_movies)"
   ]
  },
  {
   "cell_type": "code",
   "execution_count": 4,
   "metadata": {},
   "outputs": [
    {
     "name": "stdout",
     "output_type": "stream",
     "text": [
      "La table a été crée avec succès\n"
     ]
    }
   ],
   "source": [
    "# creation la table ratings\n",
    "\n",
    "sql_creation_table_ratings = \"\"\"\n",
    "    CREATE TABLE IF NOT EXISTS ratings (\n",
    "    userId INTEGER NOT NULL,\n",
    "    movieId INTEGER NOT NULL,\n",
    "    ratings float4,\n",
    "    time_stamp VARCHAR,\n",
    "    PRIMARY KEY (userId, movieId),\n",
    "    FOREIGN KEY ( movieId) REFERENCES movies(movieId)\n",
    "    );\n",
    "\"\"\"\n",
    "\n",
    "postgreSQL_functions.creer_table(conn, sql_creation_table_ratings)"
   ]
  },
  {
   "cell_type": "code",
   "execution_count": 5,
   "metadata": {},
   "outputs": [
    {
     "name": "stdout",
     "output_type": "stream",
     "text": [
      "La table a été crée avec succès\n"
     ]
    }
   ],
   "source": [
    "# creation la table links\n",
    "\n",
    "sql_creation_table_links = \"\"\"\n",
    "    CREATE TABLE IF NOT EXISTS links (\n",
    "    movieId INTEGER NOT NULL,\n",
    "    imdbld INTEGER,\n",
    "    tmdbld CHAR(13) NULL,\n",
    "    PRIMARY KEY (imdbld),\n",
    "    FOREIGN KEY ( movieId) REFERENCES movies(movieId)\n",
    "    );\n",
    "\"\"\"\n",
    "\n",
    "postgreSQL_functions.creer_table(conn, sql_creation_table_links)"
   ]
  },
  {
   "cell_type": "code",
   "execution_count": 6,
   "metadata": {},
   "outputs": [
    {
     "name": "stdout",
     "output_type": "stream",
     "text": [
      "La table a été crée avec succès\n"
     ]
    }
   ],
   "source": [
    "# creation la table tags\n",
    "\n",
    "sql_creation_table_tags = \"\"\"\n",
    "    CREATE TABLE IF NOT EXISTS tags (\n",
    "    userId INTEGER NOT NULL,\n",
    "    movieId INTEGER NOT NULL,\n",
    "    tag VARCHAR NOT NULL,\n",
    "    time_stamp VARCHAR NOT NULL,\n",
    "    FOREIGN KEY (movieId) REFERENCES movies(movieId)\n",
    "    );\n",
    "\"\"\"\n",
    "\n",
    "postgreSQL_functions.creer_table(conn, sql_creation_table_tags)"
   ]
  },
  {
   "cell_type": "markdown",
   "metadata": {},
   "source": [
    "### import les donnes en CSV par requêtes SQL dans les tables movies, ratings, links, tags"
   ]
  },
  {
   "cell_type": "markdown",
   "metadata": {},
   "source": [
    "#### inserer les donnees csv dans le table movies"
   ]
  },
  {
   "cell_type": "code",
   "execution_count": 19,
   "metadata": {},
   "outputs": [],
   "source": [
    "# Chemin vers les différents fichiers de données\n",
    "chemin_movies =  \"data/movies.csv\"\n",
    "chemin_links =  \"data/links.csv\"\n",
    "chemin_ratings = \"data/ratings.csv\"\n",
    "chemin_tags = \"data/tags.csv\""
   ]
  },
  {
   "cell_type": "code",
   "execution_count": 20,
   "metadata": {},
   "outputs": [],
   "source": [
    "movies_dict = utils.lire_csv_dict(chemin_movies)"
   ]
  },
  {
   "cell_type": "code",
   "execution_count": 9,
   "metadata": {},
   "outputs": [],
   "source": [
    "sql_inserer_movies_dict = \"\"\"\n",
    "    INSERT INTO movies \n",
    "    (movieId, title, genres)\n",
    "    VALUES (%(movieId)s, %(title)s, %(genres)s);\n",
    "\"\"\""
   ]
  },
  {
   "cell_type": "code",
   "execution_count": 10,
   "metadata": {},
   "outputs": [
    {
     "name": "stdout",
     "output_type": "stream",
     "text": [
      "Les données ont été insérées avec succès\n"
     ]
    }
   ],
   "source": [
    "postgreSQL_functions.inserer_donnees(conn, sql_inserer_movies_dict, movies_dict)"
   ]
  },
  {
   "cell_type": "markdown",
   "metadata": {},
   "source": [
    "#### inserer les donnees csv dans le table ratings"
   ]
  },
  {
   "cell_type": "code",
   "execution_count": 11,
   "metadata": {},
   "outputs": [],
   "source": [
    "ratings_dict = utils.lire_csv_dict(chemin_ratings)"
   ]
  },
  {
   "cell_type": "code",
   "execution_count": 12,
   "metadata": {},
   "outputs": [],
   "source": [
    "sql_inserer_ratings_dict = \"\"\"\n",
    "    INSERT INTO ratings \n",
    "    (movieId, userId, ratings, time_stamp)\n",
    "    VALUES (%(movieId)s, %(userId)s, %(rating)s, %(timestamp)s);\n",
    "\"\"\""
   ]
  },
  {
   "cell_type": "code",
   "execution_count": 13,
   "metadata": {},
   "outputs": [
    {
     "name": "stdout",
     "output_type": "stream",
     "text": [
      "Les données ont été insérées avec succès\n"
     ]
    }
   ],
   "source": [
    "postgreSQL_functions.inserer_donnees(conn, sql_inserer_ratings_dict, ratings_dict)"
   ]
  },
  {
   "cell_type": "markdown",
   "metadata": {},
   "source": [
    "#### Inserer les donnees csv dans la table links"
   ]
  },
  {
   "cell_type": "code",
   "execution_count": 14,
   "metadata": {},
   "outputs": [],
   "source": [
    "links_dict = utils.lire_csv_dict(chemin_links)"
   ]
  },
  {
   "cell_type": "code",
   "execution_count": 15,
   "metadata": {},
   "outputs": [],
   "source": [
    "sql_inserer_links_dict = \"\"\"\n",
    "    INSERT INTO links \n",
    "    (movieId, imdbld, tmdbld)\n",
    "    VALUES (%(movieId)s, %(imdbId)s, %(tmdbId)s);\n",
    "\"\"\""
   ]
  },
  {
   "cell_type": "code",
   "execution_count": 16,
   "metadata": {},
   "outputs": [
    {
     "name": "stdout",
     "output_type": "stream",
     "text": [
      "Les données ont été insérées avec succès\n"
     ]
    }
   ],
   "source": [
    "postgreSQL_functions.inserer_donnees(conn, sql_inserer_links_dict, links_dict)"
   ]
  },
  {
   "cell_type": "markdown",
   "metadata": {},
   "source": [
    "#### Inserer les donnees csv dans la table tags"
   ]
  },
  {
   "cell_type": "code",
   "execution_count": 17,
   "metadata": {},
   "outputs": [],
   "source": [
    "tags_dict = utils.lire_csv_dict(chemin_tags)"
   ]
  },
  {
   "cell_type": "code",
   "execution_count": 18,
   "metadata": {},
   "outputs": [],
   "source": [
    "sql_inserer_tags_dict = \"\"\"\n",
    "    INSERT INTO tags \n",
    "    (userId, movieId, tag, time_stamp)\n",
    "    VALUES (%(userId)s, %(movieId)s, %(tag)s, %(timestamp)s);\n",
    "\"\"\""
   ]
  },
  {
   "cell_type": "code",
   "execution_count": 19,
   "metadata": {},
   "outputs": [
    {
     "name": "stdout",
     "output_type": "stream",
     "text": [
      "Les données ont été insérées avec succès\n"
     ]
    }
   ],
   "source": [
    "postgreSQL_functions.inserer_donnees(conn, sql_inserer_tags_dict, tags_dict)"
   ]
  },
  {
   "cell_type": "markdown",
   "metadata": {},
   "source": [
    "### Creation deux nouvelles colonnes, year titre "
   ]
  },
  {
   "cell_type": "code",
   "execution_count": 15,
   "metadata": {},
   "outputs": [],
   "source": [
    "sql_creation_colonne_years = \"\"\"\n",
    "    ALTER TABLE movies ADD year VARCHAR\n",
    "\"\"\"\n",
    "\n",
    "sql_creation_colonne_film_title = \"\"\"\n",
    "    ALTER TABLE movies ADD film_title VARCHAR\n",
    "\"\"\""
   ]
  },
  {
   "cell_type": "code",
   "execution_count": 8,
   "metadata": {},
   "outputs": [
    {
     "name": "stdout",
     "output_type": "stream",
     "text": [
      "La table a été crée avec succès\n"
     ]
    }
   ],
   "source": [
    "postgreSQL_functions.creer_table(conn, sql_creation_colonne_years) # créer le colonne yrars"
   ]
  },
  {
   "cell_type": "code",
   "execution_count": 16,
   "metadata": {},
   "outputs": [
    {
     "name": "stdout",
     "output_type": "stream",
     "text": [
      "La table a été crée avec succès\n"
     ]
    }
   ],
   "source": [
    "postgreSQL_functions.creer_table(conn, sql_creation_colonne_film_title) # créer le colonne film_title"
   ]
  },
  {
   "cell_type": "code",
   "execution_count": 21,
   "metadata": {},
   "outputs": [],
   "source": [
    "years = []\n",
    "film_title = []\n",
    "title_year = [{}]\n",
    "for i in range(len(movies_dict)):\n",
    "    title = movies_dict[i]['title']\n",
    "    new_title = title.strip()\n",
    "    year = new_title[-5:-1]\n",
    "    new_title = new_title[:-6].strip()\n",
    "    film_title.append(new_title)\n",
    "    years.append(year)\n",
    "    \n"
   ]
  },
  {
   "cell_type": "code",
   "execution_count": null,
   "metadata": {},
   "outputs": [],
   "source": []
  },
  {
   "cell_type": "markdown",
   "metadata": {},
   "source": [
    "### Insert les donnes dans le colonne years"
   ]
  },
  {
   "cell_type": "code",
   "execution_count": null,
   "metadata": {},
   "outputs": [],
   "source": [
    "sql_inserer_years = \"\"\"\n",
    "    INSERT INTO movies \n",
    "    (year)\n",
    "    VALUES (%s);\n",
    "\"\"\"\n",
    "    \n",
    "postgreSQL_functions.inserer_donnees(conn, sql_inserer_years, years)"
   ]
  },
  {
   "cell_type": "markdown",
   "metadata": {},
   "source": [
    "### Insert les donnes dans le colonne film_title"
   ]
  },
  {
   "cell_type": "code",
   "execution_count": null,
   "metadata": {},
   "outputs": [],
   "source": [
    "sql_inserer_film_title = \"\"\"\n",
    "    INSERT INTO movies \n",
    "    (film_title)\n",
    "    VALUES (%(film_title)s);\n",
    "\"\"\"\n",
    "cursor = conn.cursor()\n",
    "for d in film_title:\n",
    "    cursor.execute(sql_inserer_film_title, d)\n",
    "    \n",
    "    #cursor.execute(sql_inserer_film_title, film_title[d])\n",
    "    #conn.commit()\n",
    "#postgreSQL_functions.inserer_donnees(conn, sql_inserer_film_title, film_title)"
   ]
  },
  {
   "cell_type": "markdown",
   "metadata": {},
   "source": [
    "### Les 15 Films les mieux notés:"
   ]
  },
  {
   "cell_type": "code",
   "execution_count": 25,
   "metadata": {},
   "outputs": [
    {
     "name": "stdout",
     "output_type": "stream",
     "text": [
      "Les données ont été lues avec succès\n"
     ]
    },
    {
     "data": {
      "text/plain": [
       "[('Mystery of the Third Planet, The (Tayna tretey planety) (1981)', 5.0),\n",
       " ('Garden of Words, The (Koto no ha no niwa) (2013)', 5.0),\n",
       " ('Brother (Brat) (1997)', 5.0),\n",
       " ('Into the Woods (1991)', 5.0),\n",
       " ('Dream of Light (a.k.a. Quince Tree Sun, The) (Sol del membrillo, El) (1992)',\n",
       "  5.0),\n",
       " ('Meantime (1984)', 5.0),\n",
       " ('Nasu: Summer in Andalusia (2003)', 5.0),\n",
       " ('Holy Motors (2012)', 5.0),\n",
       " ('Watching the Detectives (2007)', 5.0),\n",
       " ('Eva (2011)', 5.0),\n",
       " ('Story of Women (Affaire de femmes, Une) (1988)', 5.0),\n",
       " ('Connections (1978)', 5.0),\n",
       " ('Go for Zucker! (Alles auf Zucker!) (2004)', 5.0),\n",
       " ('Girls About Town (1931)', 5.0),\n",
       " ('What Men Talk About (2010)', 5.0)]"
      ]
     },
     "execution_count": 25,
     "metadata": {},
     "output_type": "execute_result"
    }
   ],
   "source": [
    "postgreSQL_select_Query = \"\"\"\n",
    "    SELECT title, avg(ratings)\n",
    "    FROM movies \n",
    "    INNER JOIN ratings on movies.movieId=ratings.movieId\n",
    "    GROUP BY title\n",
    "    ORDER BY avg(ratings) DESC \n",
    "    LIMIT 15\n",
    "\"\"\"\n",
    "\n",
    "\n",
    "postgreSQL_functions.lire_donnees(conn, postgreSQL_select_Query)\n",
    "\n",
    "    "
   ]
  },
  {
   "cell_type": "markdown",
   "metadata": {},
   "source": [
    "### Les 15 Films les mieux notés ayant reçu plus de 40 notes:"
   ]
  },
  {
   "cell_type": "code",
   "execution_count": 26,
   "metadata": {},
   "outputs": [
    {
     "name": "stdout",
     "output_type": "stream",
     "text": [
      "Les données ont été lues avec succès\n"
     ]
    },
    {
     "data": {
      "text/plain": [
       "[('Shawshank Redemption, The (1994)', 4.0, 317),\n",
       " ('Lawrence of Arabia (1962)', 4.0, 45),\n",
       " ('Godfather, The (1972)', 4.0, 192),\n",
       " ('Fight Club (1999)', 4.0, 218),\n",
       " ('Cool Hand Luke (1967)', 4.0, 57),\n",
       " ('Dr. Strangelove or: How I Learned to Stop Worrying and Love the Bomb (1964)',\n",
       "  4.0,\n",
       "  97),\n",
       " ('Rear Window (1954)', 4.0, 84),\n",
       " ('Godfather: Part II, The (1974)', 4.0, 129),\n",
       " ('Departed, The (2006)', 4.0, 107),\n",
       " ('Goodfellas (1990)', 4.0, 126),\n",
       " ('Casablanca (1942)', 4.0, 100),\n",
       " ('Dark Knight, The (2008)', 4.0, 149),\n",
       " ('Usual Suspects, The (1995)', 4.0, 204),\n",
       " ('Princess Bride, The (1987)', 4.0, 142),\n",
       " ('Star Wars: Episode IV - A New Hope (1977)', 4.0, 251)]"
      ]
     },
     "execution_count": 26,
     "metadata": {},
     "output_type": "execute_result"
    }
   ],
   "source": [
    "postgreSQL_select_Query = \"\"\"\n",
    "    SELECT title, ROUND(avg(ratings)), COUNT(ratings)\n",
    "    FROM movies \n",
    "    INNER JOIN ratings on movies.movieId=ratings.movieId\n",
    "    GROUP BY title\n",
    "    HAVING COUNT(ratings) > 40\n",
    "    ORDER BY avg(ratings) DESC \n",
    "    LIMIT 15\n",
    "\"\"\"\n",
    "\n",
    "\n",
    "postgreSQL_functions.lire_donnees(conn, postgreSQL_select_Query)\n"
   ]
  },
  {
   "cell_type": "markdown",
   "metadata": {},
   "source": [
    "### Les utilisateurs les plus prolifques en notes"
   ]
  },
  {
   "cell_type": "code",
   "execution_count": 27,
   "metadata": {},
   "outputs": [
    {
     "name": "stdout",
     "output_type": "stream",
     "text": [
      "Les données ont été lues avec succès\n"
     ]
    },
    {
     "data": {
      "text/plain": [
       "[(414, 2698),\n",
       " (599, 2478),\n",
       " (474, 2108),\n",
       " (448, 1864),\n",
       " (274, 1346),\n",
       " (610, 1302),\n",
       " (68, 1260),\n",
       " (380, 1218),\n",
       " (606, 1115),\n",
       " (288, 1055)]"
      ]
     },
     "execution_count": 27,
     "metadata": {},
     "output_type": "execute_result"
    }
   ],
   "source": [
    "postgreSQL_select_Query = \"\"\"\n",
    "    SELECT userId, COUNT(ratings)\n",
    "    FROM movies \n",
    "    INNER JOIN ratings on movies.movieId=ratings.movieId\n",
    "    GROUP BY userId\n",
    "    ORDER BY COUNT(ratings) DESC \n",
    "    LIMIT 10\n",
    "\"\"\"\n",
    "\n",
    "\n",
    "postgreSQL_functions.lire_donnees(conn, postgreSQL_select_Query)"
   ]
  },
  {
   "cell_type": "markdown",
   "metadata": {},
   "source": [
    "### Les 10 films recevant le plus de tags"
   ]
  },
  {
   "cell_type": "code",
   "execution_count": 28,
   "metadata": {},
   "outputs": [
    {
     "name": "stdout",
     "output_type": "stream",
     "text": [
      "Les données ont été lues avec succès\n"
     ]
    },
    {
     "data": {
      "text/plain": [
       "[('Star Wars: Episode IV - A New Hope (1977)', 'sci-fi', 3),\n",
       " ('Fight Club (1999)', 'dark comedy', 3),\n",
       " ('Inception (2010)', 'thought-provoking', 3),\n",
       " ('Donnie Darko (2001)', 'hallucinatory', 3),\n",
       " ('Dr. Strangelove or: How I Learned to Stop Worrying and Love the Bomb (1964)',\n",
       "  'dark comedy',\n",
       "  3),\n",
       " ('Star Wars: Episode IV - A New Hope (1977)', 'classic sci-fi', 3),\n",
       " ('Twelve Monkeys (a.k.a. 12 Monkeys) (1995)', 'time travel', 3),\n",
       " ('Donnie Darko (2001)', 'dreamlike', 3),\n",
       " ('Step Brothers (2008)', 'will ferrell', 3),\n",
       " ('Memento (2000)', 'twist ending', 3)]"
      ]
     },
     "execution_count": 28,
     "metadata": {},
     "output_type": "execute_result"
    }
   ],
   "source": [
    "postgreSQL_select_Query = \"\"\"\n",
    "    SELECT title, tag, COUNT(tag)\n",
    "    FROM movies \n",
    "    INNER JOIN tags on movies.movieId=tags.movieId\n",
    "    GROUP BY title, tag\n",
    "    ORDER BY COUNT(tag) DESC \n",
    "    LIMIT 10\n",
    "\"\"\"\n",
    "\n",
    "\n",
    "postgreSQL_functions.lire_donnees(conn, postgreSQL_select_Query)"
   ]
  },
  {
   "cell_type": "markdown",
   "metadata": {},
   "source": [
    "### Les 25 tags le plus souvent employés, avec ses fréquences"
   ]
  },
  {
   "cell_type": "code",
   "execution_count": 29,
   "metadata": {},
   "outputs": [
    {
     "name": "stdout",
     "output_type": "stream",
     "text": [
      "Les données ont été lues avec succès\n"
     ]
    },
    {
     "data": {
      "text/plain": [
       "[('In Netflix queue', 131),\n",
       " ('atmospheric', 36),\n",
       " ('thought-provoking', 24),\n",
       " ('superhero', 24),\n",
       " ('funny', 23),\n",
       " ('surreal', 23),\n",
       " ('Disney', 23),\n",
       " ('religion', 22),\n",
       " ('psychology', 21),\n",
       " ('dark comedy', 21),\n",
       " ('quirky', 21),\n",
       " ('sci-fi', 21),\n",
       " ('suspense', 20),\n",
       " ('twist ending', 19),\n",
       " ('crime', 19),\n",
       " ('visually appealing', 19),\n",
       " ('politics', 18),\n",
       " ('mental illness', 16),\n",
       " ('music', 16),\n",
       " ('time travel', 16),\n",
       " ('comedy', 15),\n",
       " ('aliens', 15),\n",
       " ('dark', 15),\n",
       " ('mindfuck', 14),\n",
       " ('dreamlike', 14)]"
      ]
     },
     "execution_count": 29,
     "metadata": {},
     "output_type": "execute_result"
    }
   ],
   "source": [
    "postgreSQL_select_Query = \"\"\"\n",
    "    SELECT tag, COUNT(tag)\n",
    "    FROM tags\n",
    "    GROUP BY tag\n",
    "    ORDER BY COUNT(tag) DESC \n",
    "    LIMIT 25\n",
    "\"\"\"\n",
    "\n",
    "\n",
    "postgreSQL_functions.lire_donnees(conn, postgreSQL_select_Query)"
   ]
  },
  {
   "cell_type": "code",
   "execution_count": null,
   "metadata": {},
   "outputs": [],
   "source": []
  }
 ],
 "metadata": {
  "kernelspec": {
   "display_name": "Python 3",
   "language": "python",
   "name": "python3"
  },
  "language_info": {
   "codemirror_mode": {
    "name": "ipython",
    "version": 3
   },
   "file_extension": ".py",
   "mimetype": "text/x-python",
   "name": "python",
   "nbconvert_exporter": "python",
   "pygments_lexer": "ipython3",
   "version": "3.8.6"
  }
 },
 "nbformat": 4,
 "nbformat_minor": 4
}
