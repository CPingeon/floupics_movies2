{
 "cells": [
  {
   "cell_type": "code",
   "execution_count": 17,
   "metadata": {},
   "outputs": [],
   "source": [
    "import postgreSQL_functions, os, csv\n",
    "import utils"
   ]
  },
  {
   "cell_type": "code",
   "execution_count": 4,
   "metadata": {},
   "outputs": [
    {
     "data": {
      "text/plain": [
       "psycopg2.extensions.connection"
      ]
     },
     "execution_count": 4,
     "metadata": {},
     "output_type": "execute_result"
    }
   ],
   "source": [
    "# conecter au base de donnee Floupics_movies\n",
    "ma_base_donnees = \"Floupics_Movies2\"\n",
    "utilisateur = \"postgres\"\n",
    "mot_passe = os.environ.get('pg_psw')\n",
    "\n",
    "conn = postgreSQL_functions.ouvrir_connection(ma_base_donnees, utilisateur, mot_passe)\n",
    "\n",
    "type(conn)"
   ]
  },
  {
   "cell_type": "markdown",
   "metadata": {},
   "source": [
    "### creation les tables movies, links, ratings, tags dans le base de donnes Floupics_movies\n",
    "\n"
   ]
  },
  {
   "cell_type": "code",
   "execution_count": 4,
   "metadata": {},
   "outputs": [
    {
     "name": "stdout",
     "output_type": "stream",
     "text": [
      "La table a été crée avec succès\n"
     ]
    }
   ],
   "source": [
    "# creation la table movies\n",
    "\n",
    "sql_creation_table_movies = \"\"\"\n",
    "    CREATE TABLE IF NOT EXISTS movies (\n",
    "    movieId INTEGER primary key,\n",
    "    title text,\n",
    "    genres text\n",
    "    );\n",
    "\"\"\"\n",
    "\n",
    "postgreSQL_functions.creer_table(conn, sql_creation_table_movies)"
   ]
  },
  {
   "cell_type": "code",
   "execution_count": 7,
   "metadata": {},
   "outputs": [
    {
     "name": "stdout",
     "output_type": "stream",
     "text": [
      "La table a été crée avec succès\n"
     ]
    }
   ],
   "source": [
    "# creation la table ratings\n",
    "\n",
    "sql_creation_table_ratings = \"\"\"\n",
    "    CREATE TABLE IF NOT EXISTS ratings (\n",
    "    userId INTEGER NOT NULL,\n",
    "    movieId INTEGER NOT NULL,\n",
    "    ratings float4,\n",
    "    time_stamp INTEGER,\n",
    "    PRIMARY KEY (userId, movieId),\n",
    "    FOREIGN KEY ( movieId) REFERENCES movies(movieId)\n",
    "    );\n",
    "\"\"\"\n",
    "\n",
    "postgreSQL_functions.creer_table(conn, sql_creation_table_ratings)"
   ]
  },
  {
   "cell_type": "code",
   "execution_count": 121,
   "metadata": {},
   "outputs": [
    {
     "name": "stdout",
     "output_type": "stream",
     "text": [
      "La table a été crée avec succès\n"
     ]
    }
   ],
   "source": [
    "# creation la table links\n",
    "\n",
    "sql_creation_table_links = \"\"\"\n",
    "    CREATE TABLE IF NOT EXISTS links (\n",
    "    movieId INTEGER NOT NULL,\n",
    "    imdbld INTEGER,\n",
    "    tmdbld CHAR(13) NULL,\n",
    "    PRIMARY KEY (imdbld),\n",
    "    FOREIGN KEY ( movieId) REFERENCES movies(movieId)\n",
    "    );\n",
    "\"\"\"\n",
    "\n",
    "postgreSQL_functions.creer_table(conn, sql_creation_table_links)"
   ]
  },
  {
   "cell_type": "code",
   "execution_count": 10,
   "metadata": {},
   "outputs": [
    {
     "name": "stdout",
     "output_type": "stream",
     "text": [
      "La table a été crée avec succès\n"
     ]
    }
   ],
   "source": [
    "# creation la table tags\n",
    "\n",
    "sql_creation_table_tags = \"\"\"\n",
    "    CREATE TABLE IF NOT EXISTS tags (\n",
    "    movieId INTEGER NOT NULL,\n",
    "    userId INTEGER NOT NULL,\n",
    "    tag TEXT,\n",
    "    time_stamp INTEGER,\n",
    "    PRIMARY KEY (movieId, userId, tag),\n",
    "    FOREIGN KEY (movieId) REFERENCES movies(movieId),\n",
    "    FOREIGN KEY (movieId, userId) REFERENCES ratings(movieId, userId)\n",
    "    );\n",
    "\"\"\"\n",
    "\n",
    "postgreSQL_functions.creer_table(conn, sql_creation_table_tags)"
   ]
  },
  {
   "cell_type": "markdown",
   "metadata": {},
   "source": [
    "### import les donnes en CSV par requêtes SQL dans les tables movies, ratings, links, tags"
   ]
  },
  {
   "cell_type": "markdown",
   "metadata": {},
   "source": [
    "#### inserer les donnees csv dans le table movies"
   ]
  },
  {
   "cell_type": "code",
   "execution_count": 18,
   "metadata": {},
   "outputs": [],
   "source": [
    "# Chemin vers les différents fichiers de données\n",
    "chemin_movies =  \"data/movies.csv\"\n",
    "chemin_links =  \"data/links.csv\"\n",
    "chemin_ratings = \"data/ratings.csv\"\n",
    "chemin_tags = \"data/tags.csv\""
   ]
  },
  {
   "cell_type": "code",
   "execution_count": 45,
   "metadata": {},
   "outputs": [],
   "source": [
    "movies_dict = utils.lire_csv_dict(chemin_movies)"
   ]
  },
  {
   "cell_type": "code",
   "execution_count": 46,
   "metadata": {},
   "outputs": [],
   "source": [
    "sql_inserer_movies_dict = \"\"\"\n",
    "    INSERT INTO movies \n",
    "    (movieId, title, genres)\n",
    "    VALUES (%(movieId)s, %(title)s, %(genres)s);\n",
    "\"\"\""
   ]
  },
  {
   "cell_type": "code",
   "execution_count": 47,
   "metadata": {},
   "outputs": [
    {
     "name": "stdout",
     "output_type": "stream",
     "text": [
      "Les données ont été insérées avec succès\n"
     ]
    }
   ],
   "source": [
    "postgreSQL_functions.inserer_donnees(conn, sql_inserer_movies_dict, movies_dict)"
   ]
  },
  {
   "cell_type": "markdown",
   "metadata": {},
   "source": [
    "#### inserer les donnees csv dans le table ratings"
   ]
  },
  {
   "cell_type": "code",
   "execution_count": 60,
   "metadata": {},
   "outputs": [],
   "source": [
    "ratings_dict = utils.lire_csv_dict(chemin_ratings)"
   ]
  },
  {
   "cell_type": "code",
   "execution_count": 61,
   "metadata": {},
   "outputs": [],
   "source": [
    "sql_inserer_ratings_dict = \"\"\"\n",
    "    INSERT INTO ratings \n",
    "    (movieId, userId, ratings, time_stamp)\n",
    "    VALUES (%(movieId)s, %(userId)s, %(rating)s, %(timestamp)s);\n",
    "\"\"\""
   ]
  },
  {
   "cell_type": "code",
   "execution_count": 62,
   "metadata": {},
   "outputs": [
    {
     "name": "stdout",
     "output_type": "stream",
     "text": [
      "Les données ont été insérées avec succès\n"
     ]
    }
   ],
   "source": [
    "postgreSQL_functions.inserer_donnees(conn, sql_inserer_ratings_dict, ratings_dict)"
   ]
  },
  {
   "cell_type": "markdown",
   "metadata": {},
   "source": [
    "#### Inserer les donnees csv dans la table links"
   ]
  },
  {
   "cell_type": "code",
   "execution_count": 122,
   "metadata": {},
   "outputs": [],
   "source": [
    "links_dict = utils.lire_csv_dict(chemin_links)"
   ]
  },
  {
   "cell_type": "code",
   "execution_count": 123,
   "metadata": {},
   "outputs": [],
   "source": [
    "sql_inserer_links_dict = \"\"\"\n",
    "    INSERT INTO links \n",
    "    (movieId, imdbld, tmdbld)\n",
    "    VALUES (%(movieId)s, %(imdbId)s, %(tmdbId)s);\n",
    "\"\"\""
   ]
  },
  {
   "cell_type": "code",
   "execution_count": 124,
   "metadata": {},
   "outputs": [
    {
     "name": "stdout",
     "output_type": "stream",
     "text": [
      "Les données ont été insérées avec succès\n"
     ]
    }
   ],
   "source": [
    "postgreSQL_functions.inserer_donnees(conn, sql_inserer_links_dict, links_dict)"
   ]
  },
  {
   "cell_type": "markdown",
   "metadata": {},
   "source": [
    "#### Inserer les donnees csv dans la table tags"
   ]
  },
  {
   "cell_type": "code",
   "execution_count": 128,
   "metadata": {},
   "outputs": [],
   "source": [
    "tags_dict = utils.lire_csv_dict(chemin_tags)"
   ]
  },
  {
   "cell_type": "code",
   "execution_count": 129,
   "metadata": {},
   "outputs": [],
   "source": [
    "sql_inserer_tags_dict = \"\"\"\n",
    "    INSERT INTO tags \n",
    "    (movieId, userId, tag, time_stamp)\n",
    "    VALUES (%(movieId)s, %(userId)s, %(tag)s, %(timestamp)s);\n",
    "\"\"\""
   ]
  },
  {
   "cell_type": "code",
   "execution_count": 130,
   "metadata": {},
   "outputs": [
    {
     "name": "stdout",
     "output_type": "stream",
     "text": [
      "Erreur lors de l'insertion des données\n",
      "ERREUR:  une instruction insert ou update sur la table « tags » viole la contrainte de clé\n",
      "étrangère « tags_movieid_userid_fkey »\n",
      "DETAIL:  La clé (movieid, userid)=(1569, 21) n'est pas présente dans la table « ratings ».\n",
      "\n"
     ]
    }
   ],
   "source": [
    "postgreSQL_functions.inserer_donnees(conn, sql_inserer_tags_dict, tags_dict)"
   ]
  },
  {
   "cell_type": "code",
   "execution_count": null,
   "metadata": {},
   "outputs": [],
   "source": []
  }
 ],
 "metadata": {
  "kernelspec": {
   "display_name": "Python 3",
   "language": "python",
   "name": "python3"
  },
  "language_info": {
   "codemirror_mode": {
    "name": "ipython",
    "version": 3
   },
   "file_extension": ".py",
   "mimetype": "text/x-python",
   "name": "python",
   "nbconvert_exporter": "python",
   "pygments_lexer": "ipython3",
   "version": "3.8.6"
  }
 },
 "nbformat": 4,
 "nbformat_minor": 4
}
