{
 "cells": [
  {
   "cell_type": "markdown",
   "metadata": {},
   "source": [
    "# CREATION BDD POSTGRES"
   ]
  },
  {
   "cell_type": "code",
   "execution_count": 1,
   "metadata": {},
   "outputs": [],
   "source": [
    "import os # Gestion mot de passe dans l'environnement"
   ]
  },
  {
   "cell_type": "code",
   "execution_count": 2,
   "metadata": {},
   "outputs": [],
   "source": [
    "import psycopg2 # A installer dans l'environnement"
   ]
  },
  {
   "cell_type": "code",
   "execution_count": 3,
   "metadata": {},
   "outputs": [],
   "source": [
    "import utils"
   ]
  },
  {
   "cell_type": "markdown",
   "metadata": {},
   "source": [
    "## FONCTIONS DE CONNEXION A POSTGRES"
   ]
  },
  {
   "cell_type": "code",
   "execution_count": 4,
   "metadata": {},
   "outputs": [],
   "source": [
    "# 5 arguments pour se connecter, localhost, 5432 \n",
    "# http://www.python-simple.com/python-autres-modules-non-standards/psycopg2.php\n",
    "def ouvrir_connection(nom_bdd, utilisateur, mot_passe, host='localhost', port=5432):\n",
    "    try:\n",
    "        conn = psycopg2.connect(dbname=nom_bdd, user=utilisateur, password=mot_passe, host=host, port=5432)\n",
    "    # sqlite3.Error  --> psycopg2.Error\n",
    "    except psycopg2.Error as e:\n",
    "        print(\"Erreur lors de la connection à la base de données\")\n",
    "        print(e)\n",
    "        return None\n",
    "    # autocommit non dispo sur Sql3\n",
    "    conn.set_session(autocommit=True)\n",
    "    return conn"
   ]
  },
  {
   "cell_type": "code",
   "execution_count": 5,
   "metadata": {},
   "outputs": [],
   "source": [
    "def creer_table(conn, pgsql_creation_table):\n",
    "    try:\n",
    "        cursor = conn.cursor()\n",
    "        cursor.execute(pgsql_creation_table)\n",
    "        conn.commit()\n",
    "    except psycopg2.Error as e:\n",
    "        print(\"Erreur lors de la création de la table\")\n",
    "        print(e)\n",
    "        return\n",
    "    cursor.close()\n",
    "    print(\"La table a été créée avec succès\")\n",
    "\n",
    "def creer_colonne(conn, pgsql_creation_colonne):\n",
    "    try:\n",
    "        cursor = conn.cursor()\n",
    "        cursor.execute(pgsql_creation_colonne)\n",
    "        conn.commit()\n",
    "    except psycopg2.Error as e:\n",
    "        print(\"Erreur lors de la création de la colonne\")\n",
    "        print(e)\n",
    "        return\n",
    "    cursor.close()\n",
    "    print(\"La colonne a été créée avec succès\")\n",
    "    \n",
    "def inserer_donnees(conn, pgsql_insertion_table, donnees):\n",
    "    try:\n",
    "        cursor = conn.cursor()\n",
    "        for d in donnees:\n",
    "            cursor.execute(pgsql_insertion_table, d)\n",
    "        conn.commit()\n",
    "    except psycopg2.Error as e:\n",
    "        print(\"Erreur lors de l'insertion des données\")\n",
    "        print(e)\n",
    "        return\n",
    "    cursor.close()\n",
    "    print(\"Les données ont été insérées avec succès\")\n",
    "\n",
    "def lire_donnees(conn, pgsql_requete):\n",
    "    try:\n",
    "        cursor = conn.cursor()\n",
    "        cursor.execute(pgsql_requete)\n",
    "        conn.commit()\n",
    "    except psycopg2.Error as e:\n",
    "        print(\"Erreur lors de la lecture des données\")\n",
    "        print(e)\n",
    "        return None\n",
    "    \n",
    "    print(\"Les données ont été lues avec succès\")\n",
    "    data = []\n",
    "    for row in cursor:\n",
    "        data.append(row)    \n",
    "   \n",
    "    cursor.close()\n",
    "    return data\n",
    "\n",
    "def lire_donnees(conn, pgsql_requete):\n",
    "    try:\n",
    "        cursor = conn.cursor()\n",
    "        cursor.execute(pgsql_requete)\n",
    "        conn.commit()\n",
    "    except psycopg2.Error as e:\n",
    "        print(\"Erreur lors de la lecture des données\")\n",
    "        print(e)\n",
    "        return None\n",
    "    \n",
    "    print(\"Les données ont été lues avec succès\")\n",
    "    data = []\n",
    "    for row in cursor:\n",
    "        data.append(row)    \n",
    "   \n",
    "    cursor.close()\n",
    "    return data\n",
    "\n",
    "def lire_requete_sql(conn, pgsql_requete):\n",
    "    try:\n",
    "        cursor = conn.cursor()\n",
    "        cursor.execute(pgsql_requete)\n",
    "        conn.commit()\n",
    "    except psycopg2.Error as e:\n",
    "        print(\"Erreur lors de la lecture des données\")\n",
    "        print(e)\n",
    "        return None\n",
    "    \n",
    "    print(\"Les données ont été lues avec succès\")\n",
    "    data = []\n",
    "    for row in cursor:\n",
    "        data.append(row)\n",
    "        print(\"{} | Nombre d'avis : {} | Moyenne : {}\".format(*row))\n",
    "    \n",
    "    cursor.close()\n",
    "    "
   ]
  },
  {
   "cell_type": "markdown",
   "metadata": {},
   "source": [
    "## CREATION DES TABLES ET INSERTION DES DONNEES DES FICHIERS CSV Movie / Links / Tags / Ratings"
   ]
  },
  {
   "cell_type": "code",
   "execution_count": 6,
   "metadata": {},
   "outputs": [],
   "source": [
    "ma_base_donnees = \"Movie 2\"\n",
    "utilisateur = \"postgres\"\n",
    "mot_passe = os.environ.get('pg_psw') # Prend le mot de passe crée en local bash admin"
   ]
  },
  {
   "cell_type": "code",
   "execution_count": 7,
   "metadata": {},
   "outputs": [
    {
     "data": {
      "text/plain": [
       "psycopg2.extensions.connection"
      ]
     },
     "execution_count": 7,
     "metadata": {},
     "output_type": "execute_result"
    }
   ],
   "source": [
    "conn = ouvrir_connection(ma_base_donnees, utilisateur, mot_passe)\n",
    "\n",
    "type(conn)"
   ]
  },
  {
   "cell_type": "code",
   "execution_count": 8,
   "metadata": {},
   "outputs": [],
   "source": [
    "from pathlib import Path\n",
    "# Répertoire dataset (small)\n",
    "repertoire_data = Path('data/')\n",
    "# Chemin vers les différents fichiers de données\n",
    "chemin_movies = repertoire_data / 'movies.csv'\n",
    "chemin_links = repertoire_data / 'links.csv'\n",
    "chemin_ratings = repertoire_data / 'ratings.csv'\n",
    "chemin_tags = repertoire_data / 'tags.csv'"
   ]
  },
  {
   "cell_type": "code",
   "execution_count": 9,
   "metadata": {},
   "outputs": [],
   "source": [
    "movies_dict = utils.lire_csv_dict(chemin_movies)"
   ]
  },
  {
   "cell_type": "code",
   "execution_count": 10,
   "metadata": {},
   "outputs": [],
   "source": [
    "links_dict = utils.lire_csv_dict(chemin_links)"
   ]
  },
  {
   "cell_type": "code",
   "execution_count": 11,
   "metadata": {},
   "outputs": [],
   "source": [
    "ratings_dict = utils.lire_csv_dict(chemin_ratings)"
   ]
  },
  {
   "cell_type": "code",
   "execution_count": 12,
   "metadata": {},
   "outputs": [],
   "source": [
    "tags_dict = utils.lire_csv_dict(chemin_tags)"
   ]
  },
  {
   "cell_type": "markdown",
   "metadata": {},
   "source": [
    "### REQUETES SQL CREATION TABLES ET INSERTIONS DONNEES"
   ]
  },
  {
   "cell_type": "code",
   "execution_count": 13,
   "metadata": {},
   "outputs": [],
   "source": [
    "# SERIAL PRIMARY key https://www.tutorialspoint.com/postgresql/postgresql_using_autoincrement.htm\n",
    "pgsql_creer_table = \"\"\"\n",
    "    CREATE TABLE IF NOT EXISTS movies (\n",
    "    movieId INT UNIQUE PRIMARY KEY,\n",
    "    title VARCHAR NOT NULL,\n",
    "    genres VARCHAR NOT NULL);\n",
    "    \n",
    "    CREATE TABLE IF NOT EXISTS links (\n",
    "    movieId INT PRIMARY KEY NOT NULL,\n",
    "    imdbId VARCHAR,\n",
    "    tmdbId VARCHAR,\n",
    "    FOREIGN KEY (movieId) REFERENCES movies(movieId));\n",
    "    \n",
    "    CREATE TABLE IF NOT EXISTS ratings (\n",
    "    userId INT NOT NULL,\n",
    "    movieId INT NOT NULL,\n",
    "    rating REAL NOT NULL,\n",
    "    timestamp INT NOT NULL,\n",
    "    PRIMARY KEY (userId, movieId),\n",
    "    foreign key(movieId) REFERENCES movies(movieId));\n",
    "    \n",
    "    CREATE TABLE IF NOT EXISTS tags (\n",
    "    userId INT NOT NULL,\n",
    "    movieId INT NOT NULL,\n",
    "    tag VARCHAR NOT NULL,\n",
    "    timestamp INT NOT NULL,\n",
    "    FOREIGN KEY (movieId) REFERENCES movies(movieId));\n",
    "\"\"\"\n",
    "\n",
    "pgsql_creer_colonne = \"\"\"\n",
    "    ALTER TABLE movies\n",
    "    ADD years integer;\n",
    "    \n",
    "    ALTER TABLE movies\n",
    "    ADD titre VARCHAR;\n",
    "\"\"\"\n",
    "\n",
    "pgsql_inserer_movies = \"\"\"\n",
    "    INSERT INTO movies \n",
    "    (movieId, title, genres)\n",
    "    VALUES (%(movieId)s, %(title)s, %(genres)s);\n",
    "\"\"\"\n",
    "\n",
    "pgsql_inserer_links = \"\"\"\n",
    "    INSERT INTO links \n",
    "    (movieId, imdbId, tmdbId)\n",
    "    VALUES (%(movieId)s, %(imdbId)s, %(tmdbId)s);\n",
    "\"\"\"\n",
    "\n",
    "pgsql_inserer_ratings = \"\"\"\n",
    "    INSERT INTO ratings \n",
    "    (userId, movieId, rating, timestamp)\n",
    "    VALUES (%(userId)s, %(movieId)s, %(rating)s, %(timestamp)s);\n",
    "\"\"\"\n",
    "pgsql_inserer_tags = \"\"\"\n",
    "    INSERT INTO tags \n",
    "    (userId, movieId, tag, timestamp)\n",
    "    VALUES (%(userId)s, %(movieId)s, %(tag)s, %(timestamp)s);\n",
    "\"\"\""
   ]
  },
  {
   "cell_type": "markdown",
   "metadata": {},
   "source": [
    "#### CREATION TABLES"
   ]
  },
  {
   "cell_type": "code",
   "execution_count": 14,
   "metadata": {},
   "outputs": [
    {
     "name": "stdout",
     "output_type": "stream",
     "text": [
      "La table a été créée avec succès\n"
     ]
    }
   ],
   "source": [
    "creer_table(conn, pgsql_creer_table)"
   ]
  },
  {
   "cell_type": "markdown",
   "metadata": {},
   "source": [
    "#### INSERTION DONNEES MOVIES"
   ]
  },
  {
   "cell_type": "code",
   "execution_count": 15,
   "metadata": {},
   "outputs": [
    {
     "name": "stdout",
     "output_type": "stream",
     "text": [
      "Les données ont été insérées avec succès\n"
     ]
    }
   ],
   "source": [
    "inserer_donnees(conn, pgsql_inserer_movies, movies_dict)"
   ]
  },
  {
   "cell_type": "markdown",
   "metadata": {},
   "source": [
    "#### INSERTION DONNEES LINKS"
   ]
  },
  {
   "cell_type": "code",
   "execution_count": 16,
   "metadata": {},
   "outputs": [
    {
     "name": "stdout",
     "output_type": "stream",
     "text": [
      "Les données ont été insérées avec succès\n"
     ]
    }
   ],
   "source": [
    "inserer_donnees(conn, pgsql_inserer_links, links_dict)"
   ]
  },
  {
   "cell_type": "markdown",
   "metadata": {},
   "source": [
    "#### INSERTION DONNEES RATINGS"
   ]
  },
  {
   "cell_type": "code",
   "execution_count": 17,
   "metadata": {},
   "outputs": [
    {
     "name": "stdout",
     "output_type": "stream",
     "text": [
      "Les données ont été insérées avec succès\n"
     ]
    }
   ],
   "source": [
    "inserer_donnees(conn, pgsql_inserer_ratings, ratings_dict)"
   ]
  },
  {
   "cell_type": "markdown",
   "metadata": {},
   "source": [
    "#### INSERTION DONNEES TAGS"
   ]
  },
  {
   "cell_type": "code",
   "execution_count": 18,
   "metadata": {},
   "outputs": [
    {
     "name": "stdout",
     "output_type": "stream",
     "text": [
      "Les données ont été insérées avec succès\n"
     ]
    }
   ],
   "source": [
    "inserer_donnees(conn, pgsql_inserer_tags, tags_dict)"
   ]
  },
  {
   "cell_type": "markdown",
   "metadata": {},
   "source": [
    "#### CREATION COLONNES"
   ]
  },
  {
   "cell_type": "code",
   "execution_count": 19,
   "metadata": {},
   "outputs": [
    {
     "name": "stdout",
     "output_type": "stream",
     "text": [
      "La colonne a été créée avec succès\n"
     ]
    }
   ],
   "source": [
    "creer_colonne(conn, pgsql_creer_colonne)"
   ]
  },
  {
   "cell_type": "code",
   "execution_count": 20,
   "metadata": {},
   "outputs": [],
   "source": [
    "conn.close()"
   ]
  },
  {
   "cell_type": "markdown",
   "metadata": {},
   "source": [
    "### Fin"
   ]
  },
  {
   "cell_type": "markdown",
   "metadata": {},
   "source": [
    "## LECTURE ET ANALYSE DES DONNEES"
   ]
  },
  {
   "cell_type": "code",
   "execution_count": 21,
   "metadata": {},
   "outputs": [],
   "source": [
    "conn = ouvrir_connection(ma_base_donnees, utilisateur, mot_passe)"
   ]
  },
  {
   "cell_type": "markdown",
   "metadata": {},
   "source": [
    "#### LECTURE 5 PREMIERS ENREGISTRMENTS DE LA TABLE MOVIES - CHECK INSERTION DONNEES"
   ]
  },
  {
   "cell_type": "code",
   "execution_count": 22,
   "metadata": {},
   "outputs": [],
   "source": [
    "Lecture_Data = \"\"\"\n",
    "    SELECT *\n",
    "    FROM movies\n",
    "    LIMIT 5;\n",
    "\"\"\""
   ]
  },
  {
   "cell_type": "code",
   "execution_count": 23,
   "metadata": {},
   "outputs": [
    {
     "name": "stdout",
     "output_type": "stream",
     "text": [
      "Les données ont été lues avec succès\n"
     ]
    }
   ],
   "source": [
    "Donnees = lire_donnees(conn, Lecture_Data)"
   ]
  },
  {
   "cell_type": "code",
   "execution_count": 24,
   "metadata": {},
   "outputs": [
    {
     "data": {
      "text/plain": [
       "[(1,\n",
       "  'Toy Story (1995)',\n",
       "  'Adventure|Animation|Children|Comedy|Fantasy',\n",
       "  None,\n",
       "  None),\n",
       " (2, 'Jumanji (1995)', 'Adventure|Children|Fantasy', None, None),\n",
       " (3, 'Grumpier Old Men (1995)', 'Comedy|Romance', None, None),\n",
       " (4, 'Waiting to Exhale (1995)', 'Comedy|Drama|Romance', None, None),\n",
       " (5, 'Father of the Bride Part II (1995)', 'Comedy', None, None)]"
      ]
     },
     "execution_count": 24,
     "metadata": {},
     "output_type": "execute_result"
    }
   ],
   "source": [
    "Donnees"
   ]
  },
  {
   "cell_type": "code",
   "execution_count": 25,
   "metadata": {},
   "outputs": [],
   "source": [
    "conn.close()"
   ]
  },
  {
   "cell_type": "markdown",
   "metadata": {},
   "source": [
    "## COMPTER LE NOMBRE D'ENREGISTREMENTS EFFECTUES"
   ]
  },
  {
   "cell_type": "code",
   "execution_count": 26,
   "metadata": {},
   "outputs": [],
   "source": [
    "conn.close()"
   ]
  },
  {
   "cell_type": "code",
   "execution_count": 27,
   "metadata": {},
   "outputs": [],
   "source": [
    "conn = ouvrir_connection(ma_base_donnees, utilisateur, mot_passe)"
   ]
  },
  {
   "cell_type": "code",
   "execution_count": 28,
   "metadata": {},
   "outputs": [],
   "source": [
    "pgsql_comptage = \"\"\"\n",
    "    SELECT COUNT(*)\n",
    "    FROM movies;\n",
    "\"\"\""
   ]
  },
  {
   "cell_type": "code",
   "execution_count": 29,
   "metadata": {},
   "outputs": [
    {
     "name": "stdout",
     "output_type": "stream",
     "text": [
      "Les données ont été lues avec succès\n"
     ]
    }
   ],
   "source": [
    "nb_movies = lire_donnees(conn, pgsql_comptage)"
   ]
  },
  {
   "cell_type": "code",
   "execution_count": 30,
   "metadata": {},
   "outputs": [
    {
     "data": {
      "text/plain": [
       "[(9742,)]"
      ]
     },
     "execution_count": 30,
     "metadata": {},
     "output_type": "execute_result"
    }
   ],
   "source": [
    "nb_movies"
   ]
  },
  {
   "cell_type": "code",
   "execution_count": 31,
   "metadata": {},
   "outputs": [],
   "source": [
    "conn.close()"
   ]
  },
  {
   "cell_type": "markdown",
   "metadata": {},
   "source": [
    "## LES 15 FILMS LES MIEUX NOTES"
   ]
  },
  {
   "cell_type": "code",
   "execution_count": 32,
   "metadata": {},
   "outputs": [],
   "source": [
    "conn = ouvrir_connection(ma_base_donnees, utilisateur, mot_passe)"
   ]
  },
  {
   "cell_type": "code",
   "execution_count": 33,
   "metadata": {},
   "outputs": [],
   "source": [
    "Sql_Top_15 = \"\"\"\n",
    "    SELECT title, count(rating), CAST(AVG(rating) AS DECIMAL (19,2)) \\\n",
    "    FROM movies INNER JOIN ratings on movies.movieId=ratings.movieId \\\n",
    "    GROUP BY title \\\n",
    "    ORDER BY avg(rating) DESC \\\n",
    "    LIMIT 15\n",
    "\"\"\""
   ]
  },
  {
   "cell_type": "code",
   "execution_count": 34,
   "metadata": {},
   "outputs": [
    {
     "name": "stdout",
     "output_type": "stream",
     "text": [
      "Les données ont été lues avec succès\n",
      "Mystery of the Third Planet, The (Tayna tretey planety) (1981) | Nombre d'avis : 1 | Moyenne : 5.00\n",
      "Garden of Words, The (Koto no ha no niwa) (2013) | Nombre d'avis : 1 | Moyenne : 5.00\n",
      "Brother (Brat) (1997) | Nombre d'avis : 1 | Moyenne : 5.00\n",
      "Into the Woods (1991) | Nombre d'avis : 1 | Moyenne : 5.00\n",
      "Dream of Light (a.k.a. Quince Tree Sun, The) (Sol del membrillo, El) (1992) | Nombre d'avis : 1 | Moyenne : 5.00\n",
      "Meantime (1984) | Nombre d'avis : 1 | Moyenne : 5.00\n",
      "Nasu: Summer in Andalusia (2003) | Nombre d'avis : 1 | Moyenne : 5.00\n",
      "Holy Motors (2012) | Nombre d'avis : 1 | Moyenne : 5.00\n",
      "Watching the Detectives (2007) | Nombre d'avis : 1 | Moyenne : 5.00\n",
      "Eva (2011) | Nombre d'avis : 1 | Moyenne : 5.00\n",
      "Story of Women (Affaire de femmes, Une) (1988) | Nombre d'avis : 1 | Moyenne : 5.00\n",
      "Connections (1978) | Nombre d'avis : 1 | Moyenne : 5.00\n",
      "Go for Zucker! (Alles auf Zucker!) (2004) | Nombre d'avis : 1 | Moyenne : 5.00\n",
      "Girls About Town (1931) | Nombre d'avis : 1 | Moyenne : 5.00\n",
      "What Men Talk About (2010) | Nombre d'avis : 1 | Moyenne : 5.00\n"
     ]
    }
   ],
   "source": [
    "Top_15 = lire_requete_sql(conn, Sql_Top_15)"
   ]
  },
  {
   "cell_type": "markdown",
   "metadata": {},
   "source": [
    "## LES 15 FILMS LES MIEUX NOTES AYANT PLUS DE 40 NOTES RECUES"
   ]
  },
  {
   "cell_type": "code",
   "execution_count": 35,
   "metadata": {},
   "outputs": [],
   "source": [
    "Sql_Top_15_Rating40 = \"\"\"\n",
    "    SELECT title, COUNT(rating), AVG(rating) \\\n",
    "    FROM movies INNER JOIN ratings on movies.movieId=ratings.movieId \\\n",
    "    GROUP BY title \\\n",
    "    HAVING COUNT(rating) > 40 \\\n",
    "    ORDER BY AVG(rating) DESC \\\n",
    "    LIMIT 15\n",
    "\"\"\""
   ]
  },
  {
   "cell_type": "code",
   "execution_count": 36,
   "metadata": {},
   "outputs": [
    {
     "name": "stdout",
     "output_type": "stream",
     "text": [
      "Les données ont été lues avec succès\n",
      "Shawshank Redemption, The (1994) | Nombre d'avis : 317 | Moyenne : 4.429022082018927\n",
      "Lawrence of Arabia (1962) | Nombre d'avis : 45 | Moyenne : 4.3\n",
      "Godfather, The (1972) | Nombre d'avis : 192 | Moyenne : 4.2890625\n",
      "Fight Club (1999) | Nombre d'avis : 218 | Moyenne : 4.272935779816514\n",
      "Cool Hand Luke (1967) | Nombre d'avis : 57 | Moyenne : 4.271929824561403\n",
      "Dr. Strangelove or: How I Learned to Stop Worrying and Love the Bomb (1964) | Nombre d'avis : 97 | Moyenne : 4.268041237113402\n",
      "Rear Window (1954) | Nombre d'avis : 84 | Moyenne : 4.261904761904762\n",
      "Godfather: Part II, The (1974) | Nombre d'avis : 129 | Moyenne : 4.25968992248062\n",
      "Departed, The (2006) | Nombre d'avis : 107 | Moyenne : 4.252336448598131\n",
      "Goodfellas (1990) | Nombre d'avis : 126 | Moyenne : 4.25\n",
      "Casablanca (1942) | Nombre d'avis : 100 | Moyenne : 4.24\n",
      "Dark Knight, The (2008) | Nombre d'avis : 149 | Moyenne : 4.238255033557047\n",
      "Usual Suspects, The (1995) | Nombre d'avis : 204 | Moyenne : 4.237745098039215\n",
      "Princess Bride, The (1987) | Nombre d'avis : 142 | Moyenne : 4.232394366197183\n",
      "Star Wars: Episode IV - A New Hope (1977) | Nombre d'avis : 251 | Moyenne : 4.231075697211155\n"
     ]
    }
   ],
   "source": [
    "Top_15_Rating40 = lire_requete_sql(conn, Sql_Top_15_Rating40)"
   ]
  },
  {
   "cell_type": "markdown",
   "metadata": {},
   "source": [
    "## LES UTILISATEURS LES PLUS ACTIFS ET LA MOYENNE DE LEURS NOTES ATTRIBUEES"
   ]
  },
  {
   "cell_type": "code",
   "execution_count": 37,
   "metadata": {},
   "outputs": [],
   "source": [
    "Sql_Top_Users = \"\"\"\n",
    "    SELECT UserId, COUNT(rating), AVG(rating) \\\n",
    "    FROM movies INNER JOIN ratings on movies.movieId=ratings.movieId \\\n",
    "    GROUP BY UserId \\\n",
    "    ORDER BY COUNT(rating) DESC \\\n",
    "    LIMIT 15\n",
    "\"\"\""
   ]
  },
  {
   "cell_type": "code",
   "execution_count": 38,
   "metadata": {},
   "outputs": [
    {
     "name": "stdout",
     "output_type": "stream",
     "text": [
      "Les données ont été lues avec succès\n",
      "414 | Nombre d'avis : 2698 | Moyenne : 3.391957005189029\n",
      "599 | Nombre d'avis : 2478 | Moyenne : 2.6420500403551253\n",
      "474 | Nombre d'avis : 2108 | Moyenne : 3.398956356736243\n",
      "448 | Nombre d'avis : 1864 | Moyenne : 2.8473712446351933\n",
      "274 | Nombre d'avis : 1346 | Moyenne : 3.235884101040119\n",
      "610 | Nombre d'avis : 1302 | Moyenne : 3.6885560675883258\n",
      "68 | Nombre d'avis : 1260 | Moyenne : 3.233730158730159\n",
      "380 | Nombre d'avis : 1218 | Moyenne : 3.6732348111658455\n",
      "606 | Nombre d'avis : 1115 | Moyenne : 3.6573991031390136\n",
      "288 | Nombre d'avis : 1055 | Moyenne : 3.1459715639810426\n",
      "249 | Nombre d'avis : 1046 | Moyenne : 3.6964627151051626\n",
      "387 | Nombre d'avis : 1027 | Moyenne : 3.2585199610516065\n",
      "182 | Nombre d'avis : 977 | Moyenne : 3.5112589559877176\n",
      "307 | Nombre d'avis : 975 | Moyenne : 2.6656410256410257\n",
      "603 | Nombre d'avis : 943 | Moyenne : 3.5079533404029695\n"
     ]
    }
   ],
   "source": [
    "Top_Users = lire_requete_sql(conn, Sql_Top_Users)"
   ]
  },
  {
   "cell_type": "markdown",
   "metadata": {},
   "source": [
    "## TOP 10 DES FILMS RECEVANT LE PLUS DE TAGS"
   ]
  },
  {
   "cell_type": "code",
   "execution_count": 39,
   "metadata": {},
   "outputs": [],
   "source": [
    "Sql_Top_Tags = \"\"\"\n",
    "    SELECT title, COUNT(tag) as nb_tags\n",
    "    FROM tags INNER JOIN movies on tags.movieId=movies.movieId\n",
    "    GROUP BY title\n",
    "    ORDER BY nb_tags DESC\n",
    "    LIMIT 10\n",
    "\"\"\""
   ]
  },
  {
   "cell_type": "code",
   "execution_count": 40,
   "metadata": {},
   "outputs": [
    {
     "name": "stdout",
     "output_type": "stream",
     "text": [
      "Les données ont été lues avec succès\n"
     ]
    }
   ],
   "source": [
    "Top_Tags = lire_donnees(conn, Sql_Top_Tags)"
   ]
  },
  {
   "cell_type": "code",
   "execution_count": 41,
   "metadata": {},
   "outputs": [
    {
     "data": {
      "text/plain": [
       "[('Pulp Fiction (1994)', 181),\n",
       " ('Fight Club (1999)', 54),\n",
       " ('2001: A Space Odyssey (1968)', 41),\n",
       " ('Léon: The Professional (a.k.a. The Professional) (Léon) (1994)', 35),\n",
       " ('Eternal Sunshine of the Spotless Mind (2004)', 34),\n",
       " ('Big Lebowski, The (1998)', 32),\n",
       " ('Donnie Darko (2001)', 29),\n",
       " ('Inception (2010)', 26),\n",
       " ('Star Wars: Episode IV - A New Hope (1977)', 26),\n",
       " ('Suicide Squad (2016)', 19)]"
      ]
     },
     "execution_count": 41,
     "metadata": {},
     "output_type": "execute_result"
    }
   ],
   "source": [
    "Top_Tags"
   ]
  },
  {
   "cell_type": "markdown",
   "metadata": {},
   "source": [
    "## FILMS AYANT EU LE PLUS DE TAG IDENTIQUE"
   ]
  },
  {
   "cell_type": "code",
   "execution_count": 42,
   "metadata": {},
   "outputs": [],
   "source": [
    "Sql_Top_Tags2 = \"\"\"\n",
    "    SELECT title, COUNT(tag) as nb_tags, tag\n",
    "    FROM tags INNER JOIN movies on tags.movieId=movies.movieId\n",
    "    GROUP BY tag, title\n",
    "    ORDER BY nb_tags DESC\n",
    "    LIMIT 10\n",
    "\"\"\""
   ]
  },
  {
   "cell_type": "code",
   "execution_count": 43,
   "metadata": {},
   "outputs": [
    {
     "name": "stdout",
     "output_type": "stream",
     "text": [
      "Les données ont été lues avec succès\n"
     ]
    }
   ],
   "source": [
    "Top_Tags2 = lire_donnees(conn, Sql_Top_Tags2)"
   ]
  },
  {
   "cell_type": "code",
   "execution_count": 44,
   "metadata": {},
   "outputs": [
    {
     "data": {
      "text/plain": [
       "[('Inception (2010)', 3, 'thought-provoking'),\n",
       " ('Donnie Darko (2001)', 3, 'hallucinatory'),\n",
       " ('Twelve Monkeys (a.k.a. 12 Monkeys) (1995)', 3, 'time travel'),\n",
       " ('Dr. Strangelove or: How I Learned to Stop Worrying and Love the Bomb (1964)',\n",
       "  3,\n",
       "  'dark comedy'),\n",
       " ('Fight Club (1999)', 3, 'dark comedy'),\n",
       " ('Donnie Darko (2001)', 3, 'dreamlike'),\n",
       " ('Star Wars: Episode IV - A New Hope (1977)', 3, 'sci-fi'),\n",
       " ('Star Wars: Episode IV - A New Hope (1977)', 3, 'classic sci-fi'),\n",
       " ('Step Brothers (2008)', 3, 'will ferrell'),\n",
       " ('Memento (2000)', 3, 'twist ending')]"
      ]
     },
     "execution_count": 44,
     "metadata": {},
     "output_type": "execute_result"
    }
   ],
   "source": [
    "Top_Tags2"
   ]
  },
  {
   "cell_type": "markdown",
   "metadata": {},
   "source": [
    "## TOP 25 TAGS LES PLUS UTILISES"
   ]
  },
  {
   "cell_type": "code",
   "execution_count": 45,
   "metadata": {},
   "outputs": [],
   "source": [
    "Sql_Top_Tags3 = \"\"\"\n",
    "    SELECT tag, COUNT(tag) AS nb_tags\n",
    "    FROM tags\n",
    "    GROUP BY tag\n",
    "    ORDER BY COUNT(tag) DESC\n",
    "    LIMIT 25\n",
    "\"\"\""
   ]
  },
  {
   "cell_type": "code",
   "execution_count": 46,
   "metadata": {},
   "outputs": [
    {
     "name": "stdout",
     "output_type": "stream",
     "text": [
      "Les données ont été lues avec succès\n"
     ]
    }
   ],
   "source": [
    "Top_Tags3 = lire_donnees(conn, Sql_Top_Tags3)"
   ]
  },
  {
   "cell_type": "code",
   "execution_count": 47,
   "metadata": {},
   "outputs": [
    {
     "data": {
      "text/plain": [
       "[('In Netflix queue', 131),\n",
       " ('atmospheric', 36),\n",
       " ('thought-provoking', 24),\n",
       " ('superhero', 24),\n",
       " ('funny', 23),\n",
       " ('surreal', 23),\n",
       " ('Disney', 23),\n",
       " ('religion', 22),\n",
       " ('psychology', 21),\n",
       " ('dark comedy', 21),\n",
       " ('quirky', 21),\n",
       " ('sci-fi', 21),\n",
       " ('suspense', 20),\n",
       " ('twist ending', 19),\n",
       " ('crime', 19),\n",
       " ('visually appealing', 19),\n",
       " ('politics', 18),\n",
       " ('mental illness', 16),\n",
       " ('music', 16),\n",
       " ('time travel', 16),\n",
       " ('comedy', 15),\n",
       " ('aliens', 15),\n",
       " ('dark', 15),\n",
       " ('mindfuck', 14),\n",
       " ('dreamlike', 14)]"
      ]
     },
     "execution_count": 47,
     "metadata": {},
     "output_type": "execute_result"
    }
   ],
   "source": [
    "Top_Tags3"
   ]
  },
  {
   "cell_type": "markdown",
   "metadata": {},
   "source": [
    "## CREATION COLONNE YEARS"
   ]
  },
  {
   "cell_type": "code",
   "execution_count": 48,
   "metadata": {},
   "outputs": [],
   "source": [
    "Sql_Colonne_Years = \"\"\"\n",
    "    ALTER TABLE movies\n",
    "    ADD years integer\n",
    "\"\"\""
   ]
  },
  {
   "cell_type": "code",
   "execution_count": 49,
   "metadata": {},
   "outputs": [
    {
     "name": "stdout",
     "output_type": "stream",
     "text": [
      "Erreur lors de la création de la colonne\n",
      "ERREUR:  la colonne « years » de la relation « movies » existe déjà\n",
      "\n"
     ]
    }
   ],
   "source": [
    "creer_colonne(conn, Sql_Colonne_Years)"
   ]
  },
  {
   "cell_type": "code",
   "execution_count": 50,
   "metadata": {},
   "outputs": [
    {
     "ename": "NameError",
     "evalue": "name 'Colonne_Years' is not defined",
     "output_type": "error",
     "traceback": [
      "\u001b[1;31m---------------------------------------------------------------------------\u001b[0m",
      "\u001b[1;31mNameError\u001b[0m                                 Traceback (most recent call last)",
      "\u001b[1;32m<ipython-input-50-a07c3e663656>\u001b[0m in \u001b[0;36m<module>\u001b[1;34m\u001b[0m\n\u001b[1;32m----> 1\u001b[1;33m \u001b[0mColonne_Years\u001b[0m\u001b[1;33m\u001b[0m\u001b[1;33m\u001b[0m\u001b[0m\n\u001b[0m",
      "\u001b[1;31mNameError\u001b[0m: name 'Colonne_Years' is not defined"
     ]
    }
   ],
   "source": [
    "Colonne_Years"
   ]
  },
  {
   "cell_type": "code",
   "execution_count": null,
   "metadata": {},
   "outputs": [],
   "source": []
  }
 ],
 "metadata": {
  "kernelspec": {
   "display_name": "Python 3",
   "language": "python",
   "name": "python3"
  },
  "language_info": {
   "codemirror_mode": {
    "name": "ipython",
    "version": 3
   },
   "file_extension": ".py",
   "mimetype": "text/x-python",
   "name": "python",
   "nbconvert_exporter": "python",
   "pygments_lexer": "ipython3",
   "version": "3.8.6"
  }
 },
 "nbformat": 4,
 "nbformat_minor": 4
}
