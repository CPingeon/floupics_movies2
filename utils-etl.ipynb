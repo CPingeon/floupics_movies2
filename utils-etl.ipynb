{
 "cells": [
  {
   "cell_type": "markdown",
   "metadata": {},
   "source": [
    "# Quelques fonctions utilitaires pour ETL\n"
   ]
  },
  {
   "cell_type": "markdown",
   "metadata": {},
   "source": [
    "TODO: Définir le terme 'ETL' dans le contexte de l'ingénierie data\n",
    "\n",
    "Le terme ETL est un acronyme qui signifie Extract, Transform, Load.C'est un processus d'intégration des données qui permet de transférer des données brutes d'un système source, de les préparer pour une utilisation en aval et de les envoyer vers une base de données, un entrepôt de données ou un serveur cible. Dans ce processus la transformation des données intervient sur un serveur intermédiaire avant le chargement sur la cible."
   ]
  },
  {
   "cell_type": "markdown",
   "metadata": {},
   "source": [
    "---\n",
    "## Application"
   ]
  },
  {
   "cell_type": "code",
   "execution_count": 1,
   "metadata": {},
   "outputs": [],
   "source": [
    "%load_ext autoreload\n",
    "%autoreload 2"
   ]
  },
  {
   "cell_type": "code",
   "execution_count": 2,
   "metadata": {},
   "outputs": [],
   "source": [
    "import utils"
   ]
  },
  {
   "cell_type": "code",
   "execution_count": 3,
   "metadata": {},
   "outputs": [],
   "source": [
    "from pathlib import Path\n",
    "\n",
    "# Répertoire dataset (small)\n",
    "repertoire_data = Path('data/')\n",
    "\n",
    "# Chemin vers les différents fichiers de données\n",
    "chemin_movies = repertoire_data / 'movies.csv'\n",
    "chemin_links = repertoire_data / 'links.csv'\n",
    "chemin_ratings = repertoire_data / 'ratings.csv'\n",
    "chemin_tags = repertoire_data / 'tags.csv'"
   ]
  },
  {
   "cell_type": "code",
   "execution_count": 4,
   "metadata": {},
   "outputs": [],
   "source": [
    "movies_dict = utils.lire_csv_dict(chemin_movies)"
   ]
  },
  {
   "cell_type": "code",
   "execution_count": 7,
   "metadata": {},
   "outputs": [
    {
     "data": {
      "text/plain": [
       "{'movieId': '232',\n",
       " 'title': 'Eat Drink Man Woman (Yin shi nan nu) (1994)',\n",
       " 'genres': 'Comedy|Drama|Romance'}"
      ]
     },
     "execution_count": 7,
     "metadata": {},
     "output_type": "execute_result"
    }
   ],
   "source": [
    "movies_dict[198]"
   ]
  },
  {
   "cell_type": "code",
   "execution_count": 8,
   "metadata": {},
   "outputs": [],
   "source": [
    "ratings_dict = utils.lire_csv_dict(chemin_ratings)"
   ]
  },
  {
   "cell_type": "code",
   "execution_count": null,
   "metadata": {},
   "outputs": [],
   "source": [
    "ratings_dict[0]"
   ]
  },
  {
   "cell_type": "markdown",
   "metadata": {},
   "source": [
    "## Fonction `renvoyer_annee_titre_film(title)`\n",
    "  \n",
    "TODO: Implémenter le corps de la fonction `renvoyer_annee_titre_film` dans le fichier `utils.py`  "
   ]
  },
  {
   "cell_type": "code",
   "execution_count": null,
   "metadata": {},
   "outputs": [],
   "source": [
    "help(utils.renvoyer_annee_titre_film)"
   ]
  },
  {
   "cell_type": "code",
   "execution_count": null,
   "metadata": {},
   "outputs": [],
   "source": [
    "utils.renvoyer_annee_titre_film(movies_dict[0]['title'])"
   ]
  },
  {
   "cell_type": "code",
   "execution_count": null,
   "metadata": {},
   "outputs": [],
   "source": [
    "utils.renvoyer_annee_titre_film('Heroes of Telemark, The (1965) ')"
   ]
  },
  {
   "cell_type": "code",
   "execution_count": null,
   "metadata": {},
   "outputs": [],
   "source": [
    "utils.renvoyer_annee_titre_film('6A')"
   ]
  },
  {
   "cell_type": "code",
   "execution_count": null,
   "metadata": {},
   "outputs": [],
   "source": [
    "# Tests unitaires\n",
    "assert utils.renvoyer_annee_titre_film('Toy Story (1995)') == (1995, 'Toy Story')\n",
    "assert utils.renvoyer_annee_titre_film('Heroes of Telemark, The (1965) ') == (1965, 'Heroes of Telemark, The')\n",
    "assert utils.renvoyer_annee_titre_film('The Serious Game') == (None, 'The Serious Game')\n",
    "assert utils.renvoyer_annee_titre_film('Viva') == (None, 'Viva')\n",
    "assert utils.renvoyer_annee_titre_film('6A') == (None, '6A')"
   ]
  },
  {
   "cell_type": "code",
   "execution_count": null,
   "metadata": {},
   "outputs": [],
   "source": [
    "for i in range(10):\n",
    "    print(utils.renvoyer_annee_titre_film(movies_dict[i]['title']))"
   ]
  },
  {
   "cell_type": "code",
   "execution_count": null,
   "metadata": {},
   "outputs": [],
   "source": []
  },
  {
   "cell_type": "code",
   "execution_count": null,
   "metadata": {},
   "outputs": [],
   "source": []
  },
  {
   "cell_type": "markdown",
   "metadata": {},
   "source": [
    "## Fonction `renvoyer_datetime_iso(timestamp)`\n",
    "  \n",
    "  TODO: Implémenter le corps de la fonction `renvoyer_datetime_iso` dans le fichier `utils.py`  "
   ]
  },
  {
   "cell_type": "code",
   "execution_count": null,
   "metadata": {},
   "outputs": [],
   "source": [
    "help(utils.renvoyer_datetime_iso)"
   ]
  },
  {
   "cell_type": "code",
   "execution_count": null,
   "metadata": {},
   "outputs": [],
   "source": [
    "utils.renvoyer_datetime_iso(964982703)"
   ]
  },
  {
   "cell_type": "code",
   "execution_count": null,
   "metadata": {},
   "outputs": [],
   "source": [
    "# Tests unitaires\n",
    "assert utils.renvoyer_datetime_iso(964982703) == '2000-07-30T20:45:03'\n",
    "assert utils.renvoyer_datetime_iso(828124615) == '1996-03-29T19:36:55'\n",
    "assert utils.renvoyer_datetime_iso(1537799250) == '2018-09-24T16:27:30'"
   ]
  }
 ],
 "metadata": {
  "kernelspec": {
   "display_name": "Python 3",
   "language": "python",
   "name": "python3"
  },
  "language_info": {
   "codemirror_mode": {
    "name": "ipython",
    "version": 3
   },
   "file_extension": ".py",
   "mimetype": "text/x-python",
   "name": "python",
   "nbconvert_exporter": "python",
   "pygments_lexer": "ipython3",
   "version": "3.8.6"
  }
 },
 "nbformat": 4,
 "nbformat_minor": 4
}
